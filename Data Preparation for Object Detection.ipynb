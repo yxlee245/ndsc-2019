{
 "cells": [
  {
   "cell_type": "markdown",
   "metadata": {},
   "source": [
    "# Data Preparation for Object Detection"
   ]
  },
  {
   "cell_type": "markdown",
   "metadata": {},
   "source": [
    "## Initial Setup"
   ]
  },
  {
   "cell_type": "markdown",
   "metadata": {},
   "source": [
    "Auto update from code base"
   ]
  },
  {
   "cell_type": "code",
   "execution_count": 1,
   "metadata": {},
   "outputs": [],
   "source": [
    "%load_ext autoreload\n",
    "%autoreload 2"
   ]
  },
  {
   "cell_type": "markdown",
   "metadata": {},
   "source": [
    "Import libraries"
   ]
  },
  {
   "cell_type": "code",
   "execution_count": 2,
   "metadata": {},
   "outputs": [],
   "source": [
    "import numpy as np\n",
    "import pandas as pd\n",
    "\n",
    "from src.object_detection.utils import create_label_map_json, create_data_lists"
   ]
  },
  {
   "cell_type": "markdown",
   "metadata": {},
   "source": [
    "## Create datasets"
   ]
  },
  {
   "cell_type": "markdown",
   "metadata": {},
   "source": [
    "Create label map for each category"
   ]
  },
  {
   "cell_type": "code",
   "execution_count": 3,
   "metadata": {},
   "outputs": [],
   "source": [
    "create_label_map_json(annotation_folder='data/derived/bb_annotations', output_folder='data/derived')"
   ]
  },
  {
   "cell_type": "markdown",
   "metadata": {},
   "source": [
    "Create dataset (JSON) for each category"
   ]
  },
  {
   "cell_type": "code",
   "execution_count": 4,
   "metadata": {},
   "outputs": [
    {
     "name": "stdout",
     "output_type": "stream",
     "text": [
      "\n",
      "There are 500 training images containing a total of 1500 objects. Files have been saved to /home/yxlee245/ndsc-2019/data/derived.\n",
      "\n",
      "There are 187 validation images containing a total of 561 objects. Files have been saved to /home/yxlee245/ndsc-2019/data/derived.\n",
      "\n",
      "There are 500 training images containing a total of 1500 objects. Files have been saved to /home/yxlee245/ndsc-2019/data/derived.\n",
      "\n",
      "There are 186 validation images containing a total of 558 objects. Files have been saved to /home/yxlee245/ndsc-2019/data/derived.\n",
      "\n",
      "There are 499 training images containing a total of 1497 objects. Files have been saved to /home/yxlee245/ndsc-2019/data/derived.\n",
      "\n",
      "There are 186 validation images containing a total of 558 objects. Files have been saved to /home/yxlee245/ndsc-2019/data/derived.\n"
     ]
    }
   ],
   "source": [
    "# Beauty\n",
    "create_data_lists(image_folder='data/raw', image_category='beauty', image_path_csv='data/derived/beauty_image_path_bb.csv',\n",
    "                  annotation_folder='data/derived/bb_annotations', output_folder='data/derived', random_state=2019)\n",
    "\n",
    "# Fashion\n",
    "create_data_lists(image_folder='data/raw', image_category='fashion', image_path_csv='data/derived/fashion_image_path_bb.csv',\n",
    "                  annotation_folder='data/derived/bb_annotations', output_folder='data/derived', random_state=2019)\n",
    "\n",
    "# Mobile\n",
    "create_data_lists(image_folder='data/raw', image_category='mobile', image_path_csv='data/derived/mobile_image_path_bb.csv',\n",
    "                  annotation_folder='data/derived/bb_annotations', output_folder='data/derived', random_state=0)"
   ]
  },
  {
   "cell_type": "code",
   "execution_count": null,
   "metadata": {},
   "outputs": [],
   "source": []
  }
 ],
 "metadata": {
  "kernelspec": {
   "display_name": "Python 3",
   "language": "python",
   "name": "python3"
  },
  "language_info": {
   "codemirror_mode": {
    "name": "ipython",
    "version": 3
   },
   "file_extension": ".py",
   "mimetype": "text/x-python",
   "name": "python",
   "nbconvert_exporter": "python",
   "pygments_lexer": "ipython3",
   "version": "3.6.8"
  }
 },
 "nbformat": 4,
 "nbformat_minor": 2
}
