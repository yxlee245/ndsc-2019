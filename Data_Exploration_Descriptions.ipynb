{
 "cells": [
  {
   "cell_type": "markdown",
   "metadata": {},
   "source": [
    "# Data Exploration for CSV and JSON files"
   ]
  },
  {
   "cell_type": "markdown",
   "metadata": {},
   "source": [
    "Exploring the CSV and JSON files for NDSC 2019"
   ]
  },
  {
   "cell_type": "markdown",
   "metadata": {},
   "source": [
    "## Initial Setup"
   ]
  },
  {
   "cell_type": "markdown",
   "metadata": {},
   "source": [
    "Auto update from code base"
   ]
  },
  {
   "cell_type": "code",
   "execution_count": 1,
   "metadata": {},
   "outputs": [],
   "source": [
    "%load_ext autoreload\n",
    "%autoreload 2"
   ]
  },
  {
   "cell_type": "markdown",
   "metadata": {},
   "source": [
    "Import libraries"
   ]
  },
  {
   "cell_type": "code",
   "execution_count": 2,
   "metadata": {},
   "outputs": [],
   "source": [
    "import numpy as np\n",
    "import pandas as pd\n",
    "from matplotlib import pyplot as plt\n",
    "\n",
    "import json"
   ]
  },
  {
   "cell_type": "markdown",
   "metadata": {},
   "source": [
    "Read in CSV files"
   ]
  },
  {
   "cell_type": "code",
   "execution_count": 3,
   "metadata": {},
   "outputs": [],
   "source": [
    "df_beauty_train = pd.read_csv('data/raw/beauty_data_info_train_competition.csv')\n",
    "df_beauty_val = pd.read_csv('data/raw/beauty_data_info_val_competition.csv')\n",
    "df_fashion_train = pd.read_csv('data/raw/fashion_data_info_train_competition.csv')\n",
    "df_fashion_val = pd.read_csv('data/raw/fashion_data_info_val_competition.csv')\n",
    "df_mobile_train = pd.read_csv('data/raw/mobile_data_info_train_competition.csv')\n",
    "df_mobile_val = pd.read_csv('data/raw/mobile_data_info_val_competition.csv')"
   ]
  },
  {
   "cell_type": "markdown",
   "metadata": {},
   "source": [
    "Read in JSON files"
   ]
  },
  {
   "cell_type": "code",
   "execution_count": 4,
   "metadata": {},
   "outputs": [],
   "source": [
    "with open('data/raw/beauty_profile_train.json', 'r') as file:\n",
    "    dict_beauty = json.load(file)\n",
    "    \n",
    "with open('data/raw/fashion_profile_train.json', 'r') as file:\n",
    "    dict_fashion = json.load(file)\n",
    "    \n",
    "with open('data/raw/mobile_profile_train.json', 'r') as file:\n",
    "    dict_mobile = json.load(file)"
   ]
  },
  {
   "cell_type": "markdown",
   "metadata": {},
   "source": [
    "## Surface Exploration of Data"
   ]
  },
  {
   "cell_type": "markdown",
   "metadata": {},
   "source": [
    "Beauty"
   ]
  },
  {
   "cell_type": "code",
   "execution_count": 5,
   "metadata": {
    "scrolled": true
   },
   "outputs": [
    {
     "data": {
      "text/html": [
       "<div>\n",
       "<style scoped>\n",
       "    .dataframe tbody tr th:only-of-type {\n",
       "        vertical-align: middle;\n",
       "    }\n",
       "\n",
       "    .dataframe tbody tr th {\n",
       "        vertical-align: top;\n",
       "    }\n",
       "\n",
       "    .dataframe thead th {\n",
       "        text-align: right;\n",
       "    }\n",
       "</style>\n",
       "<table border=\"1\" class=\"dataframe\">\n",
       "  <thead>\n",
       "    <tr style=\"text-align: right;\">\n",
       "      <th></th>\n",
       "      <th>itemid</th>\n",
       "      <th>title</th>\n",
       "      <th>image_path</th>\n",
       "      <th>Benefits</th>\n",
       "      <th>Brand</th>\n",
       "      <th>Colour_group</th>\n",
       "      <th>Product_texture</th>\n",
       "      <th>Skin_type</th>\n",
       "    </tr>\n",
       "  </thead>\n",
       "  <tbody>\n",
       "    <tr>\n",
       "      <th>0</th>\n",
       "      <td>307504</td>\n",
       "      <td>nyx sex bomb pallete natural palette</td>\n",
       "      <td>beauty_image/6b2e9cbb279ac95703348368aa65da09.jpg</td>\n",
       "      <td>1.0</td>\n",
       "      <td>157.0</td>\n",
       "      <td>NaN</td>\n",
       "      <td>NaN</td>\n",
       "      <td>NaN</td>\n",
       "    </tr>\n",
       "    <tr>\n",
       "      <th>1</th>\n",
       "      <td>461203</td>\n",
       "      <td>etude house precious mineral any cushion pearl...</td>\n",
       "      <td>beauty_image/20450222d857c9571ba8fa23bdedc8c9.jpg</td>\n",
       "      <td>NaN</td>\n",
       "      <td>73.0</td>\n",
       "      <td>11.0</td>\n",
       "      <td>7.0</td>\n",
       "      <td>NaN</td>\n",
       "    </tr>\n",
       "    <tr>\n",
       "      <th>2</th>\n",
       "      <td>3592295</td>\n",
       "      <td>milani rose powder blush</td>\n",
       "      <td>beauty_image/6a5962bed605a3dd6604ca3a4278a4f9.jpg</td>\n",
       "      <td>NaN</td>\n",
       "      <td>393.0</td>\n",
       "      <td>20.0</td>\n",
       "      <td>6.0</td>\n",
       "      <td>NaN</td>\n",
       "    </tr>\n",
       "    <tr>\n",
       "      <th>3</th>\n",
       "      <td>4460167</td>\n",
       "      <td>etude house baby sweet sugar powder</td>\n",
       "      <td>beauty_image/56987ae186e8a8e71fcc5a261ca485da.jpg</td>\n",
       "      <td>NaN</td>\n",
       "      <td>73.0</td>\n",
       "      <td>NaN</td>\n",
       "      <td>6.0</td>\n",
       "      <td>NaN</td>\n",
       "    </tr>\n",
       "    <tr>\n",
       "      <th>4</th>\n",
       "      <td>5853995</td>\n",
       "      <td>bedak revlon color stay aqua mineral make up</td>\n",
       "      <td>beauty_image/9c6968066ebab57588c2f757a240d8b9.jpg</td>\n",
       "      <td>3.0</td>\n",
       "      <td>47.0</td>\n",
       "      <td>NaN</td>\n",
       "      <td>6.0</td>\n",
       "      <td>NaN</td>\n",
       "    </tr>\n",
       "  </tbody>\n",
       "</table>\n",
       "</div>"
      ],
      "text/plain": [
       "    itemid                                              title  \\\n",
       "0   307504               nyx sex bomb pallete natural palette   \n",
       "1   461203  etude house precious mineral any cushion pearl...   \n",
       "2  3592295                           milani rose powder blush   \n",
       "3  4460167                etude house baby sweet sugar powder   \n",
       "4  5853995       bedak revlon color stay aqua mineral make up   \n",
       "\n",
       "                                          image_path  Benefits  Brand  \\\n",
       "0  beauty_image/6b2e9cbb279ac95703348368aa65da09.jpg       1.0  157.0   \n",
       "1  beauty_image/20450222d857c9571ba8fa23bdedc8c9.jpg       NaN   73.0   \n",
       "2  beauty_image/6a5962bed605a3dd6604ca3a4278a4f9.jpg       NaN  393.0   \n",
       "3  beauty_image/56987ae186e8a8e71fcc5a261ca485da.jpg       NaN   73.0   \n",
       "4  beauty_image/9c6968066ebab57588c2f757a240d8b9.jpg       3.0   47.0   \n",
       "\n",
       "   Colour_group  Product_texture  Skin_type  \n",
       "0           NaN              NaN        NaN  \n",
       "1          11.0              7.0        NaN  \n",
       "2          20.0              6.0        NaN  \n",
       "3           NaN              6.0        NaN  \n",
       "4           NaN              6.0        NaN  "
      ]
     },
     "execution_count": 5,
     "metadata": {},
     "output_type": "execute_result"
    }
   ],
   "source": [
    "df_beauty_train.head()"
   ]
  },
  {
   "cell_type": "code",
   "execution_count": 6,
   "metadata": {},
   "outputs": [
    {
     "data": {
      "text/html": [
       "<div>\n",
       "<style scoped>\n",
       "    .dataframe tbody tr th:only-of-type {\n",
       "        vertical-align: middle;\n",
       "    }\n",
       "\n",
       "    .dataframe tbody tr th {\n",
       "        vertical-align: top;\n",
       "    }\n",
       "\n",
       "    .dataframe thead th {\n",
       "        text-align: right;\n",
       "    }\n",
       "</style>\n",
       "<table border=\"1\" class=\"dataframe\">\n",
       "  <thead>\n",
       "    <tr style=\"text-align: right;\">\n",
       "      <th></th>\n",
       "      <th>itemid</th>\n",
       "      <th>title</th>\n",
       "      <th>image_path</th>\n",
       "    </tr>\n",
       "  </thead>\n",
       "  <tbody>\n",
       "    <tr>\n",
       "      <th>0</th>\n",
       "      <td>370855998</td>\n",
       "      <td>flormar 7 white cream bb spf 30 40ml</td>\n",
       "      <td>beauty_image/1588591395c5a254bab84042005f2a9f.jpg</td>\n",
       "    </tr>\n",
       "    <tr>\n",
       "      <th>1</th>\n",
       "      <td>637234604</td>\n",
       "      <td>maybelline clear smooth all in one bb cream sp...</td>\n",
       "      <td>beauty_image/920985ed9587ea20f58686ea74e20f93.jpg</td>\n",
       "    </tr>\n",
       "    <tr>\n",
       "      <th>2</th>\n",
       "      <td>690282890</td>\n",
       "      <td>murah innisfree eco natural green tea bb cream...</td>\n",
       "      <td>beauty_image/90b40e5710f54352b243fcfb0f5d1d7f.jpg</td>\n",
       "    </tr>\n",
       "    <tr>\n",
       "      <th>3</th>\n",
       "      <td>930913462</td>\n",
       "      <td>loreal white perfect day cream spf 17 pa white...</td>\n",
       "      <td>beauty_image/289c668ef3d70e1d929d602d52d5d78a.jpg</td>\n",
       "    </tr>\n",
       "    <tr>\n",
       "      <th>4</th>\n",
       "      <td>1039280071</td>\n",
       "      <td>hada labo cc cream ultimate anti aging spf 35 ...</td>\n",
       "      <td>beauty_image/d5b3e652c5822d2306f4560488ec30c6.jpg</td>\n",
       "    </tr>\n",
       "  </tbody>\n",
       "</table>\n",
       "</div>"
      ],
      "text/plain": [
       "       itemid                                              title  \\\n",
       "0   370855998               flormar 7 white cream bb spf 30 40ml   \n",
       "1   637234604  maybelline clear smooth all in one bb cream sp...   \n",
       "2   690282890  murah innisfree eco natural green tea bb cream...   \n",
       "3   930913462  loreal white perfect day cream spf 17 pa white...   \n",
       "4  1039280071  hada labo cc cream ultimate anti aging spf 35 ...   \n",
       "\n",
       "                                          image_path  \n",
       "0  beauty_image/1588591395c5a254bab84042005f2a9f.jpg  \n",
       "1  beauty_image/920985ed9587ea20f58686ea74e20f93.jpg  \n",
       "2  beauty_image/90b40e5710f54352b243fcfb0f5d1d7f.jpg  \n",
       "3  beauty_image/289c668ef3d70e1d929d602d52d5d78a.jpg  \n",
       "4  beauty_image/d5b3e652c5822d2306f4560488ec30c6.jpg  "
      ]
     },
     "execution_count": 6,
     "metadata": {},
     "output_type": "execute_result"
    }
   ],
   "source": [
    "df_beauty_val.head()"
   ]
  },
  {
   "cell_type": "code",
   "execution_count": 7,
   "metadata": {},
   "outputs": [
    {
     "name": "stdout",
     "output_type": "stream",
     "text": [
      "<class 'pandas.core.frame.DataFrame'>\n",
      "RangeIndex: 286583 entries, 0 to 286582\n",
      "Data columns (total 8 columns):\n",
      "itemid             286583 non-null int64\n",
      "title              286583 non-null object\n",
      "image_path         286583 non-null object\n",
      "Benefits           113556 non-null float64\n",
      "Brand              238128 non-null float64\n",
      "Colour_group       121324 non-null float64\n",
      "Product_texture    244295 non-null float64\n",
      "Skin_type          58410 non-null float64\n",
      "dtypes: float64(5), int64(1), object(2)\n",
      "memory usage: 17.5+ MB\n"
     ]
    }
   ],
   "source": [
    "df_beauty_train.info(null_counts=True)"
   ]
  },
  {
   "cell_type": "code",
   "execution_count": 8,
   "metadata": {},
   "outputs": [
    {
     "name": "stdout",
     "output_type": "stream",
     "text": [
      "<class 'pandas.core.frame.DataFrame'>\n",
      "RangeIndex: 76545 entries, 0 to 76544\n",
      "Data columns (total 3 columns):\n",
      "itemid        76545 non-null int64\n",
      "title         76545 non-null object\n",
      "image_path    76545 non-null object\n",
      "dtypes: int64(1), object(2)\n",
      "memory usage: 1.8+ MB\n"
     ]
    }
   ],
   "source": [
    "df_beauty_val.info(null_counts=True)"
   ]
  },
  {
   "cell_type": "code",
   "execution_count": 9,
   "metadata": {},
   "outputs": [
    {
     "data": {
      "text/plain": [
       "{'high pigmentation': 0,\n",
       " 'natural': 1,\n",
       " 'light': 3,\n",
       " 'hydrating': 2,\n",
       " 'durable': 4,\n",
       " 'oil control': 5,\n",
       " 'spf': 6}"
      ]
     },
     "execution_count": 9,
     "metadata": {},
     "output_type": "execute_result"
    }
   ],
   "source": [
    "dict_beauty['Benefits']"
   ]
  },
  {
   "cell_type": "markdown",
   "metadata": {},
   "source": [
    "Fashion"
   ]
  },
  {
   "cell_type": "code",
   "execution_count": 10,
   "metadata": {},
   "outputs": [
    {
     "data": {
      "text/html": [
       "<div>\n",
       "<style scoped>\n",
       "    .dataframe tbody tr th:only-of-type {\n",
       "        vertical-align: middle;\n",
       "    }\n",
       "\n",
       "    .dataframe tbody tr th {\n",
       "        vertical-align: top;\n",
       "    }\n",
       "\n",
       "    .dataframe thead th {\n",
       "        text-align: right;\n",
       "    }\n",
       "</style>\n",
       "<table border=\"1\" class=\"dataframe\">\n",
       "  <thead>\n",
       "    <tr style=\"text-align: right;\">\n",
       "      <th></th>\n",
       "      <th>itemid</th>\n",
       "      <th>title</th>\n",
       "      <th>image_path</th>\n",
       "      <th>Pattern</th>\n",
       "      <th>Collar Type</th>\n",
       "      <th>Fashion Trend</th>\n",
       "      <th>Clothing Material</th>\n",
       "      <th>Sleeves</th>\n",
       "    </tr>\n",
       "  </thead>\n",
       "  <tbody>\n",
       "    <tr>\n",
       "      <th>0</th>\n",
       "      <td>2282553</td>\n",
       "      <td>retro floral dress</td>\n",
       "      <td>fashion_image/78d17fdb159bba51a4250dc3d583245e</td>\n",
       "      <td>2.0</td>\n",
       "      <td>NaN</td>\n",
       "      <td>3.0</td>\n",
       "      <td>NaN</td>\n",
       "      <td>NaN</td>\n",
       "    </tr>\n",
       "    <tr>\n",
       "      <th>1</th>\n",
       "      <td>13822218</td>\n",
       "      <td>dress floral sifon</td>\n",
       "      <td>fashion_image/2f77dac9965bbfdb03cbd3724b3552c5</td>\n",
       "      <td>2.0</td>\n",
       "      <td>NaN</td>\n",
       "      <td>NaN</td>\n",
       "      <td>4.0</td>\n",
       "      <td>NaN</td>\n",
       "    </tr>\n",
       "    <tr>\n",
       "      <th>2</th>\n",
       "      <td>33555935</td>\n",
       "      <td>korean white chiffon collar dress</td>\n",
       "      <td>fashion_image/6dbe2e7cba5ddbb750d2144d8f248f11</td>\n",
       "      <td>NaN</td>\n",
       "      <td>13.0</td>\n",
       "      <td>10.0</td>\n",
       "      <td>4.0</td>\n",
       "      <td>NaN</td>\n",
       "    </tr>\n",
       "    <tr>\n",
       "      <th>3</th>\n",
       "      <td>65755120</td>\n",
       "      <td>women s trendy apricot o neck solid chiffon bl...</td>\n",
       "      <td>fashion_image/dc9b21429604148fc0342d12694f3294</td>\n",
       "      <td>NaN</td>\n",
       "      <td>3.0</td>\n",
       "      <td>NaN</td>\n",
       "      <td>4.0</td>\n",
       "      <td>NaN</td>\n",
       "    </tr>\n",
       "    <tr>\n",
       "      <th>4</th>\n",
       "      <td>65857438</td>\n",
       "      <td>big sale baju gamis pesta india aysilla pancar...</td>\n",
       "      <td>fashion_image/6c25c578dd8edce742a805f891f1a51f</td>\n",
       "      <td>NaN</td>\n",
       "      <td>NaN</td>\n",
       "      <td>6.0</td>\n",
       "      <td>17.0</td>\n",
       "      <td>NaN</td>\n",
       "    </tr>\n",
       "  </tbody>\n",
       "</table>\n",
       "</div>"
      ],
      "text/plain": [
       "     itemid                                              title  \\\n",
       "0   2282553                                 retro floral dress   \n",
       "1  13822218                                 dress floral sifon   \n",
       "2  33555935                  korean white chiffon collar dress   \n",
       "3  65755120  women s trendy apricot o neck solid chiffon bl...   \n",
       "4  65857438  big sale baju gamis pesta india aysilla pancar...   \n",
       "\n",
       "                                       image_path  Pattern  Collar Type  \\\n",
       "0  fashion_image/78d17fdb159bba51a4250dc3d583245e      2.0          NaN   \n",
       "1  fashion_image/2f77dac9965bbfdb03cbd3724b3552c5      2.0          NaN   \n",
       "2  fashion_image/6dbe2e7cba5ddbb750d2144d8f248f11      NaN         13.0   \n",
       "3  fashion_image/dc9b21429604148fc0342d12694f3294      NaN          3.0   \n",
       "4  fashion_image/6c25c578dd8edce742a805f891f1a51f      NaN          NaN   \n",
       "\n",
       "   Fashion Trend  Clothing Material  Sleeves  \n",
       "0            3.0                NaN      NaN  \n",
       "1            NaN                4.0      NaN  \n",
       "2           10.0                4.0      NaN  \n",
       "3            NaN                4.0      NaN  \n",
       "4            6.0               17.0      NaN  "
      ]
     },
     "execution_count": 10,
     "metadata": {},
     "output_type": "execute_result"
    }
   ],
   "source": [
    "df_fashion_train.head()"
   ]
  },
  {
   "cell_type": "code",
   "execution_count": 11,
   "metadata": {},
   "outputs": [
    {
     "data": {
      "text/html": [
       "<div>\n",
       "<style scoped>\n",
       "    .dataframe tbody tr th:only-of-type {\n",
       "        vertical-align: middle;\n",
       "    }\n",
       "\n",
       "    .dataframe tbody tr th {\n",
       "        vertical-align: top;\n",
       "    }\n",
       "\n",
       "    .dataframe thead th {\n",
       "        text-align: right;\n",
       "    }\n",
       "</style>\n",
       "<table border=\"1\" class=\"dataframe\">\n",
       "  <thead>\n",
       "    <tr style=\"text-align: right;\">\n",
       "      <th></th>\n",
       "      <th>itemid</th>\n",
       "      <th>title</th>\n",
       "      <th>image_path</th>\n",
       "    </tr>\n",
       "  </thead>\n",
       "  <tbody>\n",
       "    <tr>\n",
       "      <th>0</th>\n",
       "      <td>381034175</td>\n",
       "      <td>fashion wanita cardigan drape terbuka lengan p...</td>\n",
       "      <td>new_fashion_image/9ba6bf09ae89c2b9069faf569e7a...</td>\n",
       "    </tr>\n",
       "    <tr>\n",
       "      <th>1</th>\n",
       "      <td>396355150</td>\n",
       "      <td>bayar di tempat fashion wanita fg sweater hood...</td>\n",
       "      <td>new_fashion_image/f465cd2e55352e3ed9ab49b16257...</td>\n",
       "    </tr>\n",
       "    <tr>\n",
       "      <th>2</th>\n",
       "      <td>592583745</td>\n",
       "      <td>bayar di tempat cardigan sweater model lengan ...</td>\n",
       "      <td>new_fashion_image/18d709b8be0d8385689bbf5e0ab2...</td>\n",
       "    </tr>\n",
       "    <tr>\n",
       "      <th>3</th>\n",
       "      <td>721929368</td>\n",
       "      <td>blazer lengan panjang slim warna polos dengan ...</td>\n",
       "      <td>new_fashion_image/5c861844f6e497f0a56b8e37138c...</td>\n",
       "    </tr>\n",
       "    <tr>\n",
       "      <th>4</th>\n",
       "      <td>800794259</td>\n",
       "      <td>sweater rajut longgar lengan panjang warna polos</td>\n",
       "      <td>new_fashion_image/13fbe2dcbaa567939acf708d6d8e...</td>\n",
       "    </tr>\n",
       "  </tbody>\n",
       "</table>\n",
       "</div>"
      ],
      "text/plain": [
       "      itemid                                              title  \\\n",
       "0  381034175  fashion wanita cardigan drape terbuka lengan p...   \n",
       "1  396355150  bayar di tempat fashion wanita fg sweater hood...   \n",
       "2  592583745  bayar di tempat cardigan sweater model lengan ...   \n",
       "3  721929368  blazer lengan panjang slim warna polos dengan ...   \n",
       "4  800794259   sweater rajut longgar lengan panjang warna polos   \n",
       "\n",
       "                                          image_path  \n",
       "0  new_fashion_image/9ba6bf09ae89c2b9069faf569e7a...  \n",
       "1  new_fashion_image/f465cd2e55352e3ed9ab49b16257...  \n",
       "2  new_fashion_image/18d709b8be0d8385689bbf5e0ab2...  \n",
       "3  new_fashion_image/5c861844f6e497f0a56b8e37138c...  \n",
       "4  new_fashion_image/13fbe2dcbaa567939acf708d6d8e...  "
      ]
     },
     "execution_count": 11,
     "metadata": {},
     "output_type": "execute_result"
    }
   ],
   "source": [
    "df_fashion_val.head()"
   ]
  },
  {
   "cell_type": "code",
   "execution_count": 12,
   "metadata": {},
   "outputs": [
    {
     "name": "stdout",
     "output_type": "stream",
     "text": [
      "<class 'pandas.core.frame.DataFrame'>\n",
      "RangeIndex: 275142 entries, 0 to 275141\n",
      "Data columns (total 8 columns):\n",
      "itemid               275142 non-null int64\n",
      "title                275142 non-null object\n",
      "image_path           275142 non-null object\n",
      "Pattern              164078 non-null float64\n",
      "Collar Type          113638 non-null float64\n",
      "Fashion Trend        147084 non-null float64\n",
      "Clothing Material    175499 non-null float64\n",
      "Sleeves              177903 non-null float64\n",
      "dtypes: float64(5), int64(1), object(2)\n",
      "memory usage: 16.8+ MB\n"
     ]
    }
   ],
   "source": [
    "df_fashion_train.info(null_counts=True)"
   ]
  },
  {
   "cell_type": "code",
   "execution_count": 13,
   "metadata": {},
   "outputs": [
    {
     "name": "stdout",
     "output_type": "stream",
     "text": [
      "<class 'pandas.core.frame.DataFrame'>\n",
      "RangeIndex: 69498 entries, 0 to 69497\n",
      "Data columns (total 3 columns):\n",
      "itemid        69498 non-null int64\n",
      "title         69498 non-null object\n",
      "image_path    69498 non-null object\n",
      "dtypes: int64(1), object(2)\n",
      "memory usage: 1.6+ MB\n"
     ]
    }
   ],
   "source": [
    "df_fashion_val.info(null_counts=True)"
   ]
  },
  {
   "cell_type": "code",
   "execution_count": 14,
   "metadata": {
    "scrolled": true
   },
   "outputs": [
    {
     "data": {
      "text/plain": [
       "dict_keys(['Pattern', 'Collar Type', 'Fashion Trend', 'Clothing Material', 'Sleeves'])"
      ]
     },
     "execution_count": 14,
     "metadata": {},
     "output_type": "execute_result"
    }
   ],
   "source": [
    "dict_fashion.keys()"
   ]
  },
  {
   "cell_type": "markdown",
   "metadata": {},
   "source": [
    "Mobile"
   ]
  },
  {
   "cell_type": "code",
   "execution_count": 15,
   "metadata": {},
   "outputs": [
    {
     "data": {
      "text/html": [
       "<div>\n",
       "<style scoped>\n",
       "    .dataframe tbody tr th:only-of-type {\n",
       "        vertical-align: middle;\n",
       "    }\n",
       "\n",
       "    .dataframe tbody tr th {\n",
       "        vertical-align: top;\n",
       "    }\n",
       "\n",
       "    .dataframe thead th {\n",
       "        text-align: right;\n",
       "    }\n",
       "</style>\n",
       "<table border=\"1\" class=\"dataframe\">\n",
       "  <thead>\n",
       "    <tr style=\"text-align: right;\">\n",
       "      <th></th>\n",
       "      <th>itemid</th>\n",
       "      <th>title</th>\n",
       "      <th>image_path</th>\n",
       "      <th>Operating System</th>\n",
       "      <th>Features</th>\n",
       "      <th>Network Connections</th>\n",
       "      <th>Memory RAM</th>\n",
       "      <th>Brand</th>\n",
       "      <th>Warranty Period</th>\n",
       "      <th>Storage Capacity</th>\n",
       "      <th>Color Family</th>\n",
       "      <th>Phone Model</th>\n",
       "      <th>Camera</th>\n",
       "      <th>Phone Screen Size</th>\n",
       "    </tr>\n",
       "  </thead>\n",
       "  <tbody>\n",
       "    <tr>\n",
       "      <th>0</th>\n",
       "      <td>2346660</td>\n",
       "      <td>apple iphone 4s back glass spare part original...</td>\n",
       "      <td>mobile_image/a9c8f0fdd6587deed197634066cf7eee.jpg</td>\n",
       "      <td>NaN</td>\n",
       "      <td>NaN</td>\n",
       "      <td>NaN</td>\n",
       "      <td>NaN</td>\n",
       "      <td>2.0</td>\n",
       "      <td>NaN</td>\n",
       "      <td>NaN</td>\n",
       "      <td>12.0</td>\n",
       "      <td>1526.0</td>\n",
       "      <td>NaN</td>\n",
       "      <td>NaN</td>\n",
       "    </tr>\n",
       "    <tr>\n",
       "      <th>1</th>\n",
       "      <td>2816338</td>\n",
       "      <td>iphone 4s 64gb white</td>\n",
       "      <td>mobile_image/3b9a11608551b11b9330268e0d055e01.jpg</td>\n",
       "      <td>NaN</td>\n",
       "      <td>NaN</td>\n",
       "      <td>NaN</td>\n",
       "      <td>NaN</td>\n",
       "      <td>2.0</td>\n",
       "      <td>NaN</td>\n",
       "      <td>3.0</td>\n",
       "      <td>12.0</td>\n",
       "      <td>NaN</td>\n",
       "      <td>NaN</td>\n",
       "      <td>NaN</td>\n",
       "    </tr>\n",
       "    <tr>\n",
       "      <th>2</th>\n",
       "      <td>2847602</td>\n",
       "      <td>samsung sm b310e piton dual sim</td>\n",
       "      <td>mobile_image/1d719e936841a83c165da620f927de68.jpg</td>\n",
       "      <td>NaN</td>\n",
       "      <td>NaN</td>\n",
       "      <td>NaN</td>\n",
       "      <td>NaN</td>\n",
       "      <td>43.0</td>\n",
       "      <td>13.0</td>\n",
       "      <td>NaN</td>\n",
       "      <td>12.0</td>\n",
       "      <td>NaN</td>\n",
       "      <td>NaN</td>\n",
       "      <td>NaN</td>\n",
       "    </tr>\n",
       "    <tr>\n",
       "      <th>3</th>\n",
       "      <td>3116949</td>\n",
       "      <td>samsung caramel gt e1272 dual sim 32 mb putih</td>\n",
       "      <td>mobile_image/1d35a74d90df6cf4a02e6a5df9e9ff29.jpg</td>\n",
       "      <td>NaN</td>\n",
       "      <td>NaN</td>\n",
       "      <td>NaN</td>\n",
       "      <td>NaN</td>\n",
       "      <td>43.0</td>\n",
       "      <td>13.0</td>\n",
       "      <td>NaN</td>\n",
       "      <td>12.0</td>\n",
       "      <td>NaN</td>\n",
       "      <td>NaN</td>\n",
       "      <td>NaN</td>\n",
       "    </tr>\n",
       "    <tr>\n",
       "      <th>4</th>\n",
       "      <td>3794648</td>\n",
       "      <td>garskin sony experia z z1 z2 ultra</td>\n",
       "      <td>mobile_image/5556577b09539a9c0db0d00e0f171e2d.jpg</td>\n",
       "      <td>6.0</td>\n",
       "      <td>NaN</td>\n",
       "      <td>0.0</td>\n",
       "      <td>NaN</td>\n",
       "      <td>38.0</td>\n",
       "      <td>NaN</td>\n",
       "      <td>NaN</td>\n",
       "      <td>NaN</td>\n",
       "      <td>NaN</td>\n",
       "      <td>NaN</td>\n",
       "      <td>NaN</td>\n",
       "    </tr>\n",
       "  </tbody>\n",
       "</table>\n",
       "</div>"
      ],
      "text/plain": [
       "    itemid                                              title  \\\n",
       "0  2346660  apple iphone 4s back glass spare part original...   \n",
       "1  2816338                               iphone 4s 64gb white   \n",
       "2  2847602                    samsung sm b310e piton dual sim   \n",
       "3  3116949      samsung caramel gt e1272 dual sim 32 mb putih   \n",
       "4  3794648                 garskin sony experia z z1 z2 ultra   \n",
       "\n",
       "                                          image_path  Operating System  \\\n",
       "0  mobile_image/a9c8f0fdd6587deed197634066cf7eee.jpg               NaN   \n",
       "1  mobile_image/3b9a11608551b11b9330268e0d055e01.jpg               NaN   \n",
       "2  mobile_image/1d719e936841a83c165da620f927de68.jpg               NaN   \n",
       "3  mobile_image/1d35a74d90df6cf4a02e6a5df9e9ff29.jpg               NaN   \n",
       "4  mobile_image/5556577b09539a9c0db0d00e0f171e2d.jpg               6.0   \n",
       "\n",
       "   Features  Network Connections  Memory RAM  Brand  Warranty Period  \\\n",
       "0       NaN                  NaN         NaN    2.0              NaN   \n",
       "1       NaN                  NaN         NaN    2.0              NaN   \n",
       "2       NaN                  NaN         NaN   43.0             13.0   \n",
       "3       NaN                  NaN         NaN   43.0             13.0   \n",
       "4       NaN                  0.0         NaN   38.0              NaN   \n",
       "\n",
       "   Storage Capacity  Color Family  Phone Model  Camera  Phone Screen Size  \n",
       "0               NaN          12.0       1526.0     NaN                NaN  \n",
       "1               3.0          12.0          NaN     NaN                NaN  \n",
       "2               NaN          12.0          NaN     NaN                NaN  \n",
       "3               NaN          12.0          NaN     NaN                NaN  \n",
       "4               NaN           NaN          NaN     NaN                NaN  "
      ]
     },
     "execution_count": 15,
     "metadata": {},
     "output_type": "execute_result"
    }
   ],
   "source": [
    "df_mobile_train.head()"
   ]
  },
  {
   "cell_type": "code",
   "execution_count": 16,
   "metadata": {},
   "outputs": [
    {
     "data": {
      "text/html": [
       "<div>\n",
       "<style scoped>\n",
       "    .dataframe tbody tr th:only-of-type {\n",
       "        vertical-align: middle;\n",
       "    }\n",
       "\n",
       "    .dataframe tbody tr th {\n",
       "        vertical-align: top;\n",
       "    }\n",
       "\n",
       "    .dataframe thead th {\n",
       "        text-align: right;\n",
       "    }\n",
       "</style>\n",
       "<table border=\"1\" class=\"dataframe\">\n",
       "  <thead>\n",
       "    <tr style=\"text-align: right;\">\n",
       "      <th></th>\n",
       "      <th>itemid</th>\n",
       "      <th>title</th>\n",
       "      <th>image_path</th>\n",
       "    </tr>\n",
       "  </thead>\n",
       "  <tbody>\n",
       "    <tr>\n",
       "      <th>0</th>\n",
       "      <td>1520485457</td>\n",
       "      <td>new promo iphone 5s 16gb gold ex resmi ibox</td>\n",
       "      <td>mobile_image/876d4a1fe29e056855fa6f9643757b1c.jpg</td>\n",
       "    </tr>\n",
       "    <tr>\n",
       "      <th>1</th>\n",
       "      <td>1520516704</td>\n",
       "      <td>new promo xiaomi note 5a prime 3 32gb tam</td>\n",
       "      <td>mobile_image/e2b902b7cd35cd50f061d8e2a3ba7178.jpg</td>\n",
       "    </tr>\n",
       "    <tr>\n",
       "      <th>2</th>\n",
       "      <td>1520726573</td>\n",
       "      <td>big produk super murah oppo f5 4gb 32gb fullset</td>\n",
       "      <td>mobile_image/785c03cb1a21a1efedb8c1bbbdb81035.jpg</td>\n",
       "    </tr>\n",
       "    <tr>\n",
       "      <th>3</th>\n",
       "      <td>1523303826</td>\n",
       "      <td>pocophone xiaomi f1 ram 6gb rom 128gb</td>\n",
       "      <td>mobile_image/08bb7a43ae0fafd568ad54db908bac0b.jpg</td>\n",
       "    </tr>\n",
       "    <tr>\n",
       "      <th>4</th>\n",
       "      <td>1524467616</td>\n",
       "      <td>advan g2</td>\n",
       "      <td>mobile_image/970134be2e5961bda177e9761e1cf6ab.jpg</td>\n",
       "    </tr>\n",
       "  </tbody>\n",
       "</table>\n",
       "</div>"
      ],
      "text/plain": [
       "       itemid                                            title  \\\n",
       "0  1520485457      new promo iphone 5s 16gb gold ex resmi ibox   \n",
       "1  1520516704        new promo xiaomi note 5a prime 3 32gb tam   \n",
       "2  1520726573  big produk super murah oppo f5 4gb 32gb fullset   \n",
       "3  1523303826            pocophone xiaomi f1 ram 6gb rom 128gb   \n",
       "4  1524467616                                         advan g2   \n",
       "\n",
       "                                          image_path  \n",
       "0  mobile_image/876d4a1fe29e056855fa6f9643757b1c.jpg  \n",
       "1  mobile_image/e2b902b7cd35cd50f061d8e2a3ba7178.jpg  \n",
       "2  mobile_image/785c03cb1a21a1efedb8c1bbbdb81035.jpg  \n",
       "3  mobile_image/08bb7a43ae0fafd568ad54db908bac0b.jpg  \n",
       "4  mobile_image/970134be2e5961bda177e9761e1cf6ab.jpg  "
      ]
     },
     "execution_count": 16,
     "metadata": {},
     "output_type": "execute_result"
    }
   ],
   "source": [
    "df_mobile_val.head()"
   ]
  },
  {
   "cell_type": "code",
   "execution_count": 17,
   "metadata": {},
   "outputs": [
    {
     "name": "stdout",
     "output_type": "stream",
     "text": [
      "<class 'pandas.core.frame.DataFrame'>\n",
      "RangeIndex: 160330 entries, 0 to 160329\n",
      "Data columns (total 14 columns):\n",
      "itemid                 160330 non-null int64\n",
      "title                  160330 non-null object\n",
      "image_path             160330 non-null object\n",
      "Operating System       45278 non-null float64\n",
      "Features               39345 non-null float64\n",
      "Network Connections    23424 non-null float64\n",
      "Memory RAM             57037 non-null float64\n",
      "Brand                  155038 non-null float64\n",
      "Warranty Period        48073 non-null float64\n",
      "Storage Capacity       63150 non-null float64\n",
      "Color Family           84831 non-null float64\n",
      "Phone Model            84509 non-null float64\n",
      "Camera                 24590 non-null float64\n",
      "Phone Screen Size      32694 non-null float64\n",
      "dtypes: float64(11), int64(1), object(2)\n",
      "memory usage: 17.1+ MB\n"
     ]
    }
   ],
   "source": [
    "df_mobile_train.info(null_counts=True)"
   ]
  },
  {
   "cell_type": "code",
   "execution_count": 18,
   "metadata": {},
   "outputs": [
    {
     "name": "stdout",
     "output_type": "stream",
     "text": [
      "<class 'pandas.core.frame.DataFrame'>\n",
      "RangeIndex: 40417 entries, 0 to 40416\n",
      "Data columns (total 3 columns):\n",
      "itemid        40417 non-null int64\n",
      "title         40417 non-null object\n",
      "image_path    40417 non-null object\n",
      "dtypes: int64(1), object(2)\n",
      "memory usage: 947.4+ KB\n"
     ]
    }
   ],
   "source": [
    "df_mobile_val.info(null_counts=True)"
   ]
  },
  {
   "cell_type": "code",
   "execution_count": 45,
   "metadata": {
    "scrolled": true
   },
   "outputs": [
    {
     "data": {
      "text/plain": [
       "{'google': 0,\n",
       " 'htc': 1,\n",
       " 'apple': 2,\n",
       " 'wiko': 3,\n",
       " 'polytron': 4,\n",
       " 'huawei': 21,\n",
       " 'gionee': 5,\n",
       " 'leagoo': 6,\n",
       " 'brandcode': 7,\n",
       " 'luna': 8,\n",
       " 'sharp': 10,\n",
       " 'acer': 9,\n",
       " 'blackview': 11,\n",
       " 'prince': 12,\n",
       " 'lg': 13,\n",
       " 'spc': 14,\n",
       " 'coolpad': 15,\n",
       " 'smartfren': 16,\n",
       " 'infinix': 17,\n",
       " 'blaupunkt': 18,\n",
       " 'lava': 19,\n",
       " 'aldo': 20,\n",
       " 'icherry': 32,\n",
       " 'advan': 22,\n",
       " 'leeco': 23,\n",
       " 'nexcom': 24,\n",
       " 'zyrex': 25,\n",
       " 'axioo': 26,\n",
       " 'elephone': 27,\n",
       " 'himax': 28,\n",
       " 'hp': 29,\n",
       " 'nokia': 30,\n",
       " 'nuu mobile': 31,\n",
       " 'xiaomi': 33,\n",
       " 'pixcom': 34,\n",
       " 'mito': 35,\n",
       " 'huang mi': 36,\n",
       " 'maxtron': 37,\n",
       " 'sony': 38,\n",
       " 'indosat': 39,\n",
       " 'philips': 40,\n",
       " 'lenovo': 41,\n",
       " 'alcatel': 42,\n",
       " 'samsung': 43,\n",
       " 'zyo': 44,\n",
       " 'doogee': 45,\n",
       " 'vivo': 46,\n",
       " 'evercoss': 47,\n",
       " 'strawberry': 48,\n",
       " 'ifone': 49,\n",
       " 'fujitsu': 50,\n",
       " 'blackberry': 51,\n",
       " 'asus': 52,\n",
       " 'oneplus': 53,\n",
       " 'honor': 54,\n",
       " 'oppo': 55}"
      ]
     },
     "execution_count": 45,
     "metadata": {},
     "output_type": "execute_result"
    }
   ],
   "source": [
    "dict_mobile['Brand']"
   ]
  },
  {
   "cell_type": "markdown",
   "metadata": {},
   "source": [
    "Fill NaNs in attributes with number 999, and convert attributes to `int`"
   ]
  },
  {
   "cell_type": "code",
   "execution_count": 20,
   "metadata": {},
   "outputs": [],
   "source": [
    "attributes_beauty = ['Benefits', 'Brand', 'Colour_group', 'Product_texture', 'Skin_type']\n",
    "df_beauty_train_preprocessed = df_beauty_train.copy()\n",
    "df_beauty_train_preprocessed[attributes_beauty] = df_beauty_train_preprocessed[attributes_beauty].fillna(999).astype(int)\n",
    "\n",
    "attributes_fashion = ['Pattern', 'Collar Type', 'Fashion Trend', 'Clothing Material', 'Sleeves']\n",
    "df_fashion_train_preprocessed = df_fashion_train.copy()\n",
    "df_fashion_train_preprocessed[attributes_fashion] = df_fashion_train_preprocessed[attributes_fashion].fillna(999).astype(int)\n",
    "\n",
    "attributes_mobile = ['Operating System', 'Features', 'Network Connections', 'Memory RAM', 'Brand', 'Warranty Period',\n",
    "                     'Storage Capacity', 'Color Family', 'Phone Model', 'Camera', 'Phone Screen Size']\n",
    "df_mobile_train_preprocessed = df_mobile_train.copy()\n",
    "df_mobile_train_preprocessed[attributes_mobile] = df_mobile_train_preprocessed[attributes_mobile].fillna(999).astype(int)"
   ]
  },
  {
   "cell_type": "code",
   "execution_count": 21,
   "metadata": {},
   "outputs": [
    {
     "data": {
      "text/html": [
       "<div>\n",
       "<style scoped>\n",
       "    .dataframe tbody tr th:only-of-type {\n",
       "        vertical-align: middle;\n",
       "    }\n",
       "\n",
       "    .dataframe tbody tr th {\n",
       "        vertical-align: top;\n",
       "    }\n",
       "\n",
       "    .dataframe thead th {\n",
       "        text-align: right;\n",
       "    }\n",
       "</style>\n",
       "<table border=\"1\" class=\"dataframe\">\n",
       "  <thead>\n",
       "    <tr style=\"text-align: right;\">\n",
       "      <th></th>\n",
       "      <th>itemid</th>\n",
       "      <th>title</th>\n",
       "      <th>image_path</th>\n",
       "      <th>Benefits</th>\n",
       "      <th>Brand</th>\n",
       "      <th>Colour_group</th>\n",
       "      <th>Product_texture</th>\n",
       "      <th>Skin_type</th>\n",
       "    </tr>\n",
       "  </thead>\n",
       "  <tbody>\n",
       "    <tr>\n",
       "      <th>0</th>\n",
       "      <td>307504</td>\n",
       "      <td>nyx sex bomb pallete natural palette</td>\n",
       "      <td>beauty_image/6b2e9cbb279ac95703348368aa65da09.jpg</td>\n",
       "      <td>1</td>\n",
       "      <td>157</td>\n",
       "      <td>999</td>\n",
       "      <td>999</td>\n",
       "      <td>999</td>\n",
       "    </tr>\n",
       "    <tr>\n",
       "      <th>1</th>\n",
       "      <td>461203</td>\n",
       "      <td>etude house precious mineral any cushion pearl...</td>\n",
       "      <td>beauty_image/20450222d857c9571ba8fa23bdedc8c9.jpg</td>\n",
       "      <td>999</td>\n",
       "      <td>73</td>\n",
       "      <td>11</td>\n",
       "      <td>7</td>\n",
       "      <td>999</td>\n",
       "    </tr>\n",
       "    <tr>\n",
       "      <th>2</th>\n",
       "      <td>3592295</td>\n",
       "      <td>milani rose powder blush</td>\n",
       "      <td>beauty_image/6a5962bed605a3dd6604ca3a4278a4f9.jpg</td>\n",
       "      <td>999</td>\n",
       "      <td>393</td>\n",
       "      <td>20</td>\n",
       "      <td>6</td>\n",
       "      <td>999</td>\n",
       "    </tr>\n",
       "    <tr>\n",
       "      <th>3</th>\n",
       "      <td>4460167</td>\n",
       "      <td>etude house baby sweet sugar powder</td>\n",
       "      <td>beauty_image/56987ae186e8a8e71fcc5a261ca485da.jpg</td>\n",
       "      <td>999</td>\n",
       "      <td>73</td>\n",
       "      <td>999</td>\n",
       "      <td>6</td>\n",
       "      <td>999</td>\n",
       "    </tr>\n",
       "    <tr>\n",
       "      <th>4</th>\n",
       "      <td>5853995</td>\n",
       "      <td>bedak revlon color stay aqua mineral make up</td>\n",
       "      <td>beauty_image/9c6968066ebab57588c2f757a240d8b9.jpg</td>\n",
       "      <td>3</td>\n",
       "      <td>47</td>\n",
       "      <td>999</td>\n",
       "      <td>6</td>\n",
       "      <td>999</td>\n",
       "    </tr>\n",
       "  </tbody>\n",
       "</table>\n",
       "</div>"
      ],
      "text/plain": [
       "    itemid                                              title  \\\n",
       "0   307504               nyx sex bomb pallete natural palette   \n",
       "1   461203  etude house precious mineral any cushion pearl...   \n",
       "2  3592295                           milani rose powder blush   \n",
       "3  4460167                etude house baby sweet sugar powder   \n",
       "4  5853995       bedak revlon color stay aqua mineral make up   \n",
       "\n",
       "                                          image_path  Benefits  Brand  \\\n",
       "0  beauty_image/6b2e9cbb279ac95703348368aa65da09.jpg         1    157   \n",
       "1  beauty_image/20450222d857c9571ba8fa23bdedc8c9.jpg       999     73   \n",
       "2  beauty_image/6a5962bed605a3dd6604ca3a4278a4f9.jpg       999    393   \n",
       "3  beauty_image/56987ae186e8a8e71fcc5a261ca485da.jpg       999     73   \n",
       "4  beauty_image/9c6968066ebab57588c2f757a240d8b9.jpg         3     47   \n",
       "\n",
       "   Colour_group  Product_texture  Skin_type  \n",
       "0           999              999        999  \n",
       "1            11                7        999  \n",
       "2            20                6        999  \n",
       "3           999                6        999  \n",
       "4           999                6        999  "
      ]
     },
     "execution_count": 21,
     "metadata": {},
     "output_type": "execute_result"
    }
   ],
   "source": [
    "df_beauty_train_preprocessed.head()"
   ]
  },
  {
   "cell_type": "code",
   "execution_count": 22,
   "metadata": {},
   "outputs": [
    {
     "data": {
      "text/html": [
       "<div>\n",
       "<style scoped>\n",
       "    .dataframe tbody tr th:only-of-type {\n",
       "        vertical-align: middle;\n",
       "    }\n",
       "\n",
       "    .dataframe tbody tr th {\n",
       "        vertical-align: top;\n",
       "    }\n",
       "\n",
       "    .dataframe thead th {\n",
       "        text-align: right;\n",
       "    }\n",
       "</style>\n",
       "<table border=\"1\" class=\"dataframe\">\n",
       "  <thead>\n",
       "    <tr style=\"text-align: right;\">\n",
       "      <th></th>\n",
       "      <th>itemid</th>\n",
       "      <th>title</th>\n",
       "      <th>image_path</th>\n",
       "      <th>Pattern</th>\n",
       "      <th>Collar Type</th>\n",
       "      <th>Fashion Trend</th>\n",
       "      <th>Clothing Material</th>\n",
       "      <th>Sleeves</th>\n",
       "    </tr>\n",
       "  </thead>\n",
       "  <tbody>\n",
       "    <tr>\n",
       "      <th>0</th>\n",
       "      <td>2282553</td>\n",
       "      <td>retro floral dress</td>\n",
       "      <td>fashion_image/78d17fdb159bba51a4250dc3d583245e</td>\n",
       "      <td>2</td>\n",
       "      <td>999</td>\n",
       "      <td>3</td>\n",
       "      <td>999</td>\n",
       "      <td>999</td>\n",
       "    </tr>\n",
       "    <tr>\n",
       "      <th>1</th>\n",
       "      <td>13822218</td>\n",
       "      <td>dress floral sifon</td>\n",
       "      <td>fashion_image/2f77dac9965bbfdb03cbd3724b3552c5</td>\n",
       "      <td>2</td>\n",
       "      <td>999</td>\n",
       "      <td>999</td>\n",
       "      <td>4</td>\n",
       "      <td>999</td>\n",
       "    </tr>\n",
       "    <tr>\n",
       "      <th>2</th>\n",
       "      <td>33555935</td>\n",
       "      <td>korean white chiffon collar dress</td>\n",
       "      <td>fashion_image/6dbe2e7cba5ddbb750d2144d8f248f11</td>\n",
       "      <td>999</td>\n",
       "      <td>13</td>\n",
       "      <td>10</td>\n",
       "      <td>4</td>\n",
       "      <td>999</td>\n",
       "    </tr>\n",
       "    <tr>\n",
       "      <th>3</th>\n",
       "      <td>65755120</td>\n",
       "      <td>women s trendy apricot o neck solid chiffon bl...</td>\n",
       "      <td>fashion_image/dc9b21429604148fc0342d12694f3294</td>\n",
       "      <td>999</td>\n",
       "      <td>3</td>\n",
       "      <td>999</td>\n",
       "      <td>4</td>\n",
       "      <td>999</td>\n",
       "    </tr>\n",
       "    <tr>\n",
       "      <th>4</th>\n",
       "      <td>65857438</td>\n",
       "      <td>big sale baju gamis pesta india aysilla pancar...</td>\n",
       "      <td>fashion_image/6c25c578dd8edce742a805f891f1a51f</td>\n",
       "      <td>999</td>\n",
       "      <td>999</td>\n",
       "      <td>6</td>\n",
       "      <td>17</td>\n",
       "      <td>999</td>\n",
       "    </tr>\n",
       "  </tbody>\n",
       "</table>\n",
       "</div>"
      ],
      "text/plain": [
       "     itemid                                              title  \\\n",
       "0   2282553                                 retro floral dress   \n",
       "1  13822218                                 dress floral sifon   \n",
       "2  33555935                  korean white chiffon collar dress   \n",
       "3  65755120  women s trendy apricot o neck solid chiffon bl...   \n",
       "4  65857438  big sale baju gamis pesta india aysilla pancar...   \n",
       "\n",
       "                                       image_path  Pattern  Collar Type  \\\n",
       "0  fashion_image/78d17fdb159bba51a4250dc3d583245e        2          999   \n",
       "1  fashion_image/2f77dac9965bbfdb03cbd3724b3552c5        2          999   \n",
       "2  fashion_image/6dbe2e7cba5ddbb750d2144d8f248f11      999           13   \n",
       "3  fashion_image/dc9b21429604148fc0342d12694f3294      999            3   \n",
       "4  fashion_image/6c25c578dd8edce742a805f891f1a51f      999          999   \n",
       "\n",
       "   Fashion Trend  Clothing Material  Sleeves  \n",
       "0              3                999      999  \n",
       "1            999                  4      999  \n",
       "2             10                  4      999  \n",
       "3            999                  4      999  \n",
       "4              6                 17      999  "
      ]
     },
     "execution_count": 22,
     "metadata": {},
     "output_type": "execute_result"
    }
   ],
   "source": [
    "df_fashion_train_preprocessed.head()"
   ]
  },
  {
   "cell_type": "code",
   "execution_count": 23,
   "metadata": {},
   "outputs": [
    {
     "data": {
      "text/html": [
       "<div>\n",
       "<style scoped>\n",
       "    .dataframe tbody tr th:only-of-type {\n",
       "        vertical-align: middle;\n",
       "    }\n",
       "\n",
       "    .dataframe tbody tr th {\n",
       "        vertical-align: top;\n",
       "    }\n",
       "\n",
       "    .dataframe thead th {\n",
       "        text-align: right;\n",
       "    }\n",
       "</style>\n",
       "<table border=\"1\" class=\"dataframe\">\n",
       "  <thead>\n",
       "    <tr style=\"text-align: right;\">\n",
       "      <th></th>\n",
       "      <th>itemid</th>\n",
       "      <th>title</th>\n",
       "      <th>image_path</th>\n",
       "      <th>Operating System</th>\n",
       "      <th>Features</th>\n",
       "      <th>Network Connections</th>\n",
       "      <th>Memory RAM</th>\n",
       "      <th>Brand</th>\n",
       "      <th>Warranty Period</th>\n",
       "      <th>Storage Capacity</th>\n",
       "      <th>Color Family</th>\n",
       "      <th>Phone Model</th>\n",
       "      <th>Camera</th>\n",
       "      <th>Phone Screen Size</th>\n",
       "    </tr>\n",
       "  </thead>\n",
       "  <tbody>\n",
       "    <tr>\n",
       "      <th>0</th>\n",
       "      <td>2346660</td>\n",
       "      <td>apple iphone 4s back glass spare part original...</td>\n",
       "      <td>mobile_image/a9c8f0fdd6587deed197634066cf7eee.jpg</td>\n",
       "      <td>999</td>\n",
       "      <td>999</td>\n",
       "      <td>999</td>\n",
       "      <td>999</td>\n",
       "      <td>2</td>\n",
       "      <td>999</td>\n",
       "      <td>999</td>\n",
       "      <td>12</td>\n",
       "      <td>1526</td>\n",
       "      <td>999</td>\n",
       "      <td>999</td>\n",
       "    </tr>\n",
       "    <tr>\n",
       "      <th>1</th>\n",
       "      <td>2816338</td>\n",
       "      <td>iphone 4s 64gb white</td>\n",
       "      <td>mobile_image/3b9a11608551b11b9330268e0d055e01.jpg</td>\n",
       "      <td>999</td>\n",
       "      <td>999</td>\n",
       "      <td>999</td>\n",
       "      <td>999</td>\n",
       "      <td>2</td>\n",
       "      <td>999</td>\n",
       "      <td>3</td>\n",
       "      <td>12</td>\n",
       "      <td>999</td>\n",
       "      <td>999</td>\n",
       "      <td>999</td>\n",
       "    </tr>\n",
       "    <tr>\n",
       "      <th>2</th>\n",
       "      <td>2847602</td>\n",
       "      <td>samsung sm b310e piton dual sim</td>\n",
       "      <td>mobile_image/1d719e936841a83c165da620f927de68.jpg</td>\n",
       "      <td>999</td>\n",
       "      <td>999</td>\n",
       "      <td>999</td>\n",
       "      <td>999</td>\n",
       "      <td>43</td>\n",
       "      <td>13</td>\n",
       "      <td>999</td>\n",
       "      <td>12</td>\n",
       "      <td>999</td>\n",
       "      <td>999</td>\n",
       "      <td>999</td>\n",
       "    </tr>\n",
       "    <tr>\n",
       "      <th>3</th>\n",
       "      <td>3116949</td>\n",
       "      <td>samsung caramel gt e1272 dual sim 32 mb putih</td>\n",
       "      <td>mobile_image/1d35a74d90df6cf4a02e6a5df9e9ff29.jpg</td>\n",
       "      <td>999</td>\n",
       "      <td>999</td>\n",
       "      <td>999</td>\n",
       "      <td>999</td>\n",
       "      <td>43</td>\n",
       "      <td>13</td>\n",
       "      <td>999</td>\n",
       "      <td>12</td>\n",
       "      <td>999</td>\n",
       "      <td>999</td>\n",
       "      <td>999</td>\n",
       "    </tr>\n",
       "    <tr>\n",
       "      <th>4</th>\n",
       "      <td>3794648</td>\n",
       "      <td>garskin sony experia z z1 z2 ultra</td>\n",
       "      <td>mobile_image/5556577b09539a9c0db0d00e0f171e2d.jpg</td>\n",
       "      <td>6</td>\n",
       "      <td>999</td>\n",
       "      <td>0</td>\n",
       "      <td>999</td>\n",
       "      <td>38</td>\n",
       "      <td>999</td>\n",
       "      <td>999</td>\n",
       "      <td>999</td>\n",
       "      <td>999</td>\n",
       "      <td>999</td>\n",
       "      <td>999</td>\n",
       "    </tr>\n",
       "  </tbody>\n",
       "</table>\n",
       "</div>"
      ],
      "text/plain": [
       "    itemid                                              title  \\\n",
       "0  2346660  apple iphone 4s back glass spare part original...   \n",
       "1  2816338                               iphone 4s 64gb white   \n",
       "2  2847602                    samsung sm b310e piton dual sim   \n",
       "3  3116949      samsung caramel gt e1272 dual sim 32 mb putih   \n",
       "4  3794648                 garskin sony experia z z1 z2 ultra   \n",
       "\n",
       "                                          image_path  Operating System  \\\n",
       "0  mobile_image/a9c8f0fdd6587deed197634066cf7eee.jpg               999   \n",
       "1  mobile_image/3b9a11608551b11b9330268e0d055e01.jpg               999   \n",
       "2  mobile_image/1d719e936841a83c165da620f927de68.jpg               999   \n",
       "3  mobile_image/1d35a74d90df6cf4a02e6a5df9e9ff29.jpg               999   \n",
       "4  mobile_image/5556577b09539a9c0db0d00e0f171e2d.jpg                 6   \n",
       "\n",
       "   Features  Network Connections  Memory RAM  Brand  Warranty Period  \\\n",
       "0       999                  999         999      2              999   \n",
       "1       999                  999         999      2              999   \n",
       "2       999                  999         999     43               13   \n",
       "3       999                  999         999     43               13   \n",
       "4       999                    0         999     38              999   \n",
       "\n",
       "   Storage Capacity  Color Family  Phone Model  Camera  Phone Screen Size  \n",
       "0               999            12         1526     999                999  \n",
       "1                 3            12          999     999                999  \n",
       "2               999            12          999     999                999  \n",
       "3               999            12          999     999                999  \n",
       "4               999           999          999     999                999  "
      ]
     },
     "execution_count": 23,
     "metadata": {},
     "output_type": "execute_result"
    }
   ],
   "source": [
    "df_mobile_train_preprocessed.head()"
   ]
  },
  {
   "cell_type": "markdown",
   "metadata": {},
   "source": [
    "## In-depth Exploration"
   ]
  },
  {
   "cell_type": "markdown",
   "metadata": {},
   "source": [
    "Beauty"
   ]
  },
  {
   "cell_type": "code",
   "execution_count": 24,
   "metadata": {},
   "outputs": [
    {
     "data": {
      "text/plain": [
       "999    173027\n",
       "1       37955\n",
       "3       28419\n",
       "6       26822\n",
       "4       12577\n",
       "5        4930\n",
       "2        2841\n",
       "0          12\n",
       "Name: Benefits, dtype: int64"
      ]
     },
     "execution_count": 24,
     "metadata": {},
     "output_type": "execute_result"
    }
   ],
   "source": [
    "# Benefits\n",
    "df_beauty_train_preprocessed['Benefits'].value_counts()"
   ]
  },
  {
   "cell_type": "markdown",
   "metadata": {},
   "source": [
    "Benefit labels in training set don't seem to match the dict of labels in the json file, may have to explore this further"
   ]
  },
  {
   "cell_type": "code",
   "execution_count": 25,
   "metadata": {
    "scrolled": true
   },
   "outputs": [
    {
     "data": {
      "image/png": "[encoded data removed]",
      "text/plain": [
       "<Figure size 576x432 with 1 Axes>"
      ]
     },
     "metadata": {
      "needs_background": "light"
     },
     "output_type": "display_data"
    }
   ],
   "source": [
    "# Brand\n",
    "counts_beauty_brand = df_beauty_train_preprocessed['Brand'].value_counts()\n",
    "dict_index2brand = {value: key for key, value in dict_beauty['Brand'].items()}\n",
    "labels_beauty_brand = ['NaN' if index == 999 else dict_index2brand[index] for index in counts_beauty_brand.index]\n",
    "plt.figure(figsize=(8, 6))\n",
    "plt.bar(labels_beauty_brand[:10], counts_beauty_brand.values[:10])\n",
    "plt.ylabel('Number of items')\n",
    "plt.tick_params(axis='x', rotation=45)"
   ]
  },
  {
   "cell_type": "code",
   "execution_count": 26,
   "metadata": {
    "scrolled": true
   },
   "outputs": [
    {
     "data": {
      "image/png": "[encoded data removed]",
      "text/plain": [
       "<Figure size 576x432 with 1 Axes>"
      ]
     },
     "metadata": {
      "needs_background": "light"
     },
     "output_type": "display_data"
    }
   ],
   "source": [
    "# Colour group\n",
    "counts_beauty_colour_group = df_beauty_train_preprocessed['Colour_group'].value_counts()\n",
    "dict_index2colourgroup = {value: key for key, value in dict_beauty['Colour_group'].items()}\n",
    "labels_beauty_colour_group = ['NaN' if index == 999 else dict_index2colourgroup[index]\\\n",
    "                               for index in counts_beauty_colour_group.index]\n",
    "plt.figure(figsize=(8, 6))\n",
    "plt.bar(labels_beauty_colour_group[:10], counts_beauty_colour_group.values[:10])\n",
    "plt.ylabel('Number of items')\n",
    "plt.tick_params(axis='x', rotation=45)"
   ]
  },
  {
   "cell_type": "code",
   "execution_count": 27,
   "metadata": {},
   "outputs": [
    {
     "data": {
      "image/png": "[encoded data removed]",
      "text/plain": [
       "<Figure size 576x432 with 1 Axes>"
      ]
     },
     "metadata": {
      "needs_background": "light"
     },
     "output_type": "display_data"
    }
   ],
   "source": [
    "# Product texture\n",
    "counts_beauty_product_texture = df_beauty_train_preprocessed['Product_texture'].value_counts()\n",
    "dict_index2producttexture = {value: key for key, value in dict_beauty['Product_texture'].items()}\n",
    "labels_beauty_product_texture = ['NaN' if index == 999 else dict_index2producttexture[index]\\\n",
    "                                  for index in counts_beauty_product_texture.index]\n",
    "plt.figure(figsize=(8, 6))\n",
    "plt.bar(labels_beauty_product_texture[:10], counts_beauty_product_texture.values[:10])\n",
    "plt.ylabel('Number of items')\n",
    "plt.tick_params(axis='x', rotation=45)"
   ]
  },
  {
   "cell_type": "code",
   "execution_count": 28,
   "metadata": {
    "scrolled": true
   },
   "outputs": [
    {
     "data": {
      "image/png": "[encoded data removed]",
      "text/plain": [
       "<Figure size 576x432 with 1 Axes>"
      ]
     },
     "metadata": {
      "needs_background": "light"
     },
     "output_type": "display_data"
    }
   ],
   "source": [
    "# Skin type\n",
    "counts_beauty_skin_type = df_beauty_train_preprocessed['Skin_type'].value_counts()\n",
    "dict_index2skintype = {value: key for key, value in dict_beauty['Skin_type'].items()}\n",
    "labels_beauty_skin_type = ['NaN' if index == 999 else dict_index2skintype[index] for index in counts_beauty_skin_type.index]\n",
    "plt.figure(figsize=(8, 6))\n",
    "plt.bar(labels_beauty_skin_type[:10], counts_beauty_skin_type.values[:10])\n",
    "plt.ylabel('Number of items')\n",
    "plt.tick_params(axis='x', rotation=45)"
   ]
  },
  {
   "cell_type": "markdown",
   "metadata": {},
   "source": [
    "Fashion"
   ]
  },
  {
   "cell_type": "code",
   "execution_count": 29,
   "metadata": {},
   "outputs": [
    {
     "data": {
      "image/png": "[encoded data removed]",
      "text/plain": [
       "<Figure size 576x432 with 1 Axes>"
      ]
     },
     "metadata": {
      "needs_background": "light"
     },
     "output_type": "display_data"
    }
   ],
   "source": [
    "# Pattern\n",
    "counts_fashion_pattern = df_fashion_train_preprocessed['Pattern'].value_counts()\n",
    "dict_index2pattern = {value: key for key, value in dict_fashion['Pattern'].items()}\n",
    "labels_fashion_pattern = ['NaN' if index == 999 else dict_index2pattern[index] for index in counts_fashion_pattern.index]\n",
    "plt.figure(figsize=(8, 6))\n",
    "plt.bar(labels_fashion_pattern[:10], counts_fashion_pattern.values[:10])\n",
    "plt.ylabel('Number of items')\n",
    "plt.tick_params(axis='x', rotation=45)"
   ]
  },
  {
   "cell_type": "code",
   "execution_count": 30,
   "metadata": {},
   "outputs": [
    {
     "data": {
      "image/png": "[encoded data removed]",
      "text/plain": [
       "<Figure size 576x432 with 1 Axes>"
      ]
     },
     "metadata": {
      "needs_background": "light"
     },
     "output_type": "display_data"
    }
   ],
   "source": [
    "# Collar Type\n",
    "counts_fashion_collar_type = df_fashion_train_preprocessed['Collar Type'].value_counts()\n",
    "dict_index2collartype = {value: key for key, value in dict_fashion['Collar Type'].items()}\n",
    "labels_fashion_collar_type = ['NaN' if index == 999 else dict_index2collartype[index]\\\n",
    "                              for index in counts_fashion_collar_type.index]\n",
    "plt.figure(figsize=(8, 6))\n",
    "plt.bar(labels_fashion_collar_type[:10], counts_fashion_collar_type.values[:10])\n",
    "plt.ylabel('Number of items')\n",
    "plt.tick_params(axis='x', rotation=45)"
   ]
  },
  {
   "cell_type": "code",
   "execution_count": 31,
   "metadata": {},
   "outputs": [
    {
     "data": {
      "image/png": "[encoded data removed]",
      "text/plain": [
       "<Figure size 576x432 with 1 Axes>"
      ]
     },
     "metadata": {
      "needs_background": "light"
     },
     "output_type": "display_data"
    }
   ],
   "source": [
    "# Fashion Trend\n",
    "counts_fashion_fashion_trend = df_fashion_train_preprocessed['Fashion Trend'].value_counts()\n",
    "dict_index2fashiontrend = {value: key for key, value in dict_fashion['Fashion Trend'].items()}\n",
    "labels_fashion_fashion_trend = ['NaN' if index == 999 else dict_index2fashiontrend[index]\\\n",
    "                                for index in counts_fashion_fashion_trend.index]\n",
    "plt.figure(figsize=(8, 6))\n",
    "plt.bar(labels_fashion_fashion_trend[:10], counts_fashion_fashion_trend.values[:10])\n",
    "plt.ylabel('Number of items')\n",
    "plt.tick_params(axis='x', rotation=45)"
   ]
  },
  {
   "cell_type": "code",
   "execution_count": 32,
   "metadata": {},
   "outputs": [
    {
     "data": {
      "image/png": "[encoded data removed]",
      "text/plain": [
       "<Figure size 576x432 with 1 Axes>"
      ]
     },
     "metadata": {
      "needs_background": "light"
     },
     "output_type": "display_data"
    }
   ],
   "source": [
    "# Clothing Material\n",
    "counts_fashion_clothing_material = df_fashion_train_preprocessed['Clothing Material'].value_counts()\n",
    "dict_index2clothingmaterial = {value: key for key, value in dict_fashion['Clothing Material'].items()}\n",
    "labels_fashion_clothing_material = ['NaN' if index == 999 else dict_index2clothingmaterial[index]\\\n",
    "                                    for index in counts_fashion_clothing_material.index]\n",
    "plt.figure(figsize=(8, 6))\n",
    "plt.bar(labels_fashion_clothing_material[:10], counts_fashion_clothing_material.values[:10])\n",
    "plt.ylabel('Number of items')\n",
    "plt.tick_params(axis='x', rotation=45)"
   ]
  },
  {
   "cell_type": "code",
   "execution_count": 33,
   "metadata": {},
   "outputs": [
    {
     "data": {
      "image/png": "[encoded data removed]",
      "text/plain": [
       "<Figure size 576x432 with 1 Axes>"
      ]
     },
     "metadata": {
      "needs_background": "light"
     },
     "output_type": "display_data"
    }
   ],
   "source": [
    "# Sleeves\n",
    "counts_fashion_sleeves = df_fashion_train_preprocessed['Sleeves'].value_counts()\n",
    "dict_index2sleeves = {value: key for key, value in dict_fashion['Sleeves'].items()}\n",
    "labels_fashion_sleeves = ['NaN' if index == 999 else dict_index2sleeves[index] for index in counts_fashion_sleeves.index]\n",
    "plt.figure(figsize=(8, 6))\n",
    "plt.bar(labels_fashion_sleeves[:10], counts_fashion_sleeves.values[:10])\n",
    "plt.ylabel('Number of items')\n",
    "plt.tick_params(axis='x', rotation=45)"
   ]
  },
  {
   "cell_type": "markdown",
   "metadata": {},
   "source": [
    "Mobile"
   ]
  },
  {
   "cell_type": "code",
   "execution_count": 34,
   "metadata": {},
   "outputs": [
    {
     "data": {
      "image/png": "[encoded data removed]",
      "text/plain": [
       "<Figure size 576x432 with 1 Axes>"
      ]
     },
     "metadata": {
      "needs_background": "light"
     },
     "output_type": "display_data"
    }
   ],
   "source": [
    "# Operating System\n",
    "counts_mobile_operating_system = df_mobile_train_preprocessed['Operating System'].value_counts()\n",
    "dict_index2operatingsystem = {value: key for key, value in dict_mobile['Operating System'].items()}\n",
    "labels_mobile_operating_system = ['NaN' if index == 999 else dict_index2operatingsystem[index]\\\n",
    "                                  for index in counts_mobile_operating_system.index]\n",
    "plt.figure(figsize=(8, 6))\n",
    "plt.bar(labels_mobile_operating_system[:10], counts_mobile_operating_system.values[:10])\n",
    "plt.ylabel('Number of items')\n",
    "plt.tick_params(axis='x', rotation=45)"
   ]
  },
  {
   "cell_type": "code",
   "execution_count": 35,
   "metadata": {},
   "outputs": [
    {
     "data": {
      "image/png": "[encoded data removed]",
      "text/plain": [
       "<Figure size 576x432 with 1 Axes>"
      ]
     },
     "metadata": {
      "needs_background": "light"
     },
     "output_type": "display_data"
    }
   ],
   "source": [
    "# Features\n",
    "counts_mobile_features = df_mobile_train_preprocessed['Features'].value_counts()\n",
    "dict_index2features = {value: key for key, value in dict_mobile['Features'].items()}\n",
    "labels_mobile_features = ['NaN' if index == 999 else dict_index2features[index] for index in counts_mobile_features.index]\n",
    "plt.figure(figsize=(8, 6))\n",
    "plt.bar(labels_mobile_features[:10], counts_mobile_features.values[:10])\n",
    "plt.ylabel('Number of items')\n",
    "plt.tick_params(axis='x', rotation=45)"
   ]
  },
  {
   "cell_type": "code",
   "execution_count": 36,
   "metadata": {},
   "outputs": [
    {
     "data": {
      "image/png": "[encoded data removed]",
      "text/plain": [
       "<Figure size 576x432 with 1 Axes>"
      ]
     },
     "metadata": {
      "needs_background": "light"
     },
     "output_type": "display_data"
    }
   ],
   "source": [
    "# Network Connections\n",
    "counts_mobile_network_connections = df_mobile_train_preprocessed['Network Connections'].value_counts()\n",
    "dict_index2networkconnections = {value: key for key, value in dict_mobile['Network Connections'].items()}\n",
    "labels_mobile_network_connections = ['NaN' if index == 999 else dict_index2networkconnections[index]\\\n",
    "                                     for index in counts_mobile_network_connections.index]\n",
    "plt.figure(figsize=(8, 6))\n",
    "plt.bar(labels_mobile_network_connections[:10], counts_mobile_network_connections.values[:10])\n",
    "plt.ylabel('Number of items')\n",
    "plt.tick_params(axis='x', rotation=45)"
   ]
  },
  {
   "cell_type": "code",
   "execution_count": 37,
   "metadata": {},
   "outputs": [
    {
     "data": {
      "image/png": "[encoded data removed]",
      "text/plain": [
       "<Figure size 576x432 with 1 Axes>"
      ]
     },
     "metadata": {
      "needs_background": "light"
     },
     "output_type": "display_data"
    }
   ],
   "source": [
    "# Memory RAM\n",
    "counts_mobile_memory_ram = df_mobile_train_preprocessed['Memory RAM'].value_counts()\n",
    "dict_index2memoryram = {value: key for key, value in dict_mobile['Memory RAM'].items()}\n",
    "labels_mobile_memory_ram = ['NaN' if index == 999 else dict_index2memoryram[index]\\\n",
    "                            for index in counts_mobile_memory_ram.index]\n",
    "plt.figure(figsize=(8, 6))\n",
    "plt.bar(labels_mobile_memory_ram[:10], counts_mobile_memory_ram.values[:10])\n",
    "plt.ylabel('Number of items')\n",
    "plt.tick_params(axis='x', rotation=45)"
   ]
  },
  {
   "cell_type": "code",
   "execution_count": 38,
   "metadata": {},
   "outputs": [
    {
     "data": {
      "image/png": "[encoded data removed]",
      "text/plain": [
       "<Figure size 576x432 with 1 Axes>"
      ]
     },
     "metadata": {
      "needs_background": "light"
     },
     "output_type": "display_data"
    }
   ],
   "source": [
    "# Brand\n",
    "counts_mobile_brand = df_mobile_train_preprocessed['Brand'].value_counts()\n",
    "dict_index2brand_mobile = {value: key for key, value in dict_mobile['Brand'].items()}\n",
    "labels_mobile_brand = ['NaN' if index == 999 else dict_index2brand_mobile[index] for index in counts_mobile_brand.index]\n",
    "plt.figure(figsize=(8, 6))\n",
    "plt.bar(labels_mobile_brand[:10], counts_mobile_brand.values[:10])\n",
    "plt.ylabel('Number of items')\n",
    "plt.tick_params(axis='x', rotation=45)"
   ]
  },
  {
   "cell_type": "code",
   "execution_count": 39,
   "metadata": {},
   "outputs": [
    {
     "data": {
      "image/png": "[encoded data removed]",
      "text/plain": [
       "<Figure size 576x432 with 1 Axes>"
      ]
     },
     "metadata": {
      "needs_background": "light"
     },
     "output_type": "display_data"
    }
   ],
   "source": [
    "# Warranty Period\n",
    "counts_mobile_warranty_period = df_mobile_train_preprocessed['Warranty Period'].value_counts()\n",
    "dict_index2warrantyperiod = {value: key for key, value in dict_mobile['Warranty Period'].items()}\n",
    "labels_mobile_warranty_period = ['NaN' if index == 999 else dict_index2warrantyperiod[index]\\\n",
    "                                 for index in counts_mobile_warranty_period.index]\n",
    "plt.figure(figsize=(8, 6))\n",
    "plt.bar(labels_mobile_warranty_period[:10], counts_mobile_warranty_period.values[:10])\n",
    "plt.ylabel('Number of items')\n",
    "plt.tick_params(axis='x', rotation=45)"
   ]
  },
  {
   "cell_type": "code",
   "execution_count": 40,
   "metadata": {},
   "outputs": [
    {
     "data": {
      "image/png": "[encoded data removed]",
      "text/plain": [
       "<Figure size 576x432 with 1 Axes>"
      ]
     },
     "metadata": {
      "needs_background": "light"
     },
     "output_type": "display_data"
    }
   ],
   "source": [
    "# Storage Capacity\n",
    "counts_mobile_storage_capacity = df_mobile_train_preprocessed['Storage Capacity'].value_counts()\n",
    "dict_index2storagecapacity = {value: key for key, value in dict_mobile['Storage Capacity'].items()}\n",
    "labels_mobile_storage_capacity = ['NaN' if index == 999 else dict_index2storagecapacity[index]\\\n",
    "                                  for index in counts_mobile_storage_capacity.index]\n",
    "plt.figure(figsize=(8, 6))\n",
    "plt.bar(labels_mobile_storage_capacity[:10], counts_mobile_storage_capacity.values[:10])\n",
    "plt.ylabel('Number of items')\n",
    "plt.tick_params(axis='x', rotation=45)"
   ]
  },
  {
   "cell_type": "code",
   "execution_count": 41,
   "metadata": {},
   "outputs": [
    {
     "data": {
      "image/png": "[encoded data removed]",
      "text/plain": [
       "<Figure size 576x432 with 1 Axes>"
      ]
     },
     "metadata": {
      "needs_background": "light"
     },
     "output_type": "display_data"
    }
   ],
   "source": [
    "# Color Family\n",
    "counts_mobile_color_family = df_mobile_train_preprocessed['Color Family'].value_counts()\n",
    "dict_index2colorfamily = {value: key for key, value in dict_mobile['Color Family'].items()}\n",
    "labels_mobile_color_family = ['NaN' if index == 999 else dict_index2colorfamily[index]\\\n",
    "                              for index in counts_mobile_color_family.index]\n",
    "plt.figure(figsize=(8, 6))\n",
    "plt.bar(labels_mobile_color_family[:10], counts_mobile_color_family.values[:10])\n",
    "plt.ylabel('Number of items')\n",
    "plt.tick_params(axis='x', rotation=45)"
   ]
  },
  {
   "cell_type": "code",
   "execution_count": 42,
   "metadata": {},
   "outputs": [
    {
     "data": {
      "image/png": "[encoded data removed]",
      "text/plain": [
       "<Figure size 576x432 with 1 Axes>"
      ]
     },
     "metadata": {
      "needs_background": "light"
     },
     "output_type": "display_data"
    }
   ],
   "source": [
    "# Phone Model\n",
    "counts_mobile_phone_model = df_mobile_train_preprocessed['Phone Model'].value_counts()\n",
    "dict_index2phonemodel = {value: key for key, value in dict_mobile['Phone Model'].items()}\n",
    "labels_mobile_phone_model = ['NaN' if index == 999 else dict_index2phonemodel[index]\\\n",
    "                             for index in counts_mobile_phone_model.index]\n",
    "plt.figure(figsize=(8, 6))\n",
    "plt.bar(labels_mobile_phone_model[:10], counts_mobile_phone_model.values[:10])\n",
    "plt.ylabel('Number of items')\n",
    "plt.tick_params(axis='x', rotation=45)"
   ]
  },
  {
   "cell_type": "code",
   "execution_count": 43,
   "metadata": {},
   "outputs": [
    {
     "data": {
      "image/png": "[encoded data removed]",
      "text/plain": [
       "<Figure size 576x432 with 1 Axes>"
      ]
     },
     "metadata": {
      "needs_background": "light"
     },
     "output_type": "display_data"
    }
   ],
   "source": [
    "# Camera\n",
    "counts_mobile_camera = df_mobile_train_preprocessed['Camera'].value_counts()\n",
    "dict_index2camera = {value: key for key, value in dict_mobile['Camera'].items()}\n",
    "labels_mobile_camera = ['NaN' if index == 999 else dict_index2camera[index] for index in counts_mobile_camera.index]\n",
    "plt.figure(figsize=(8, 6))\n",
    "plt.bar(labels_mobile_camera[:10], counts_mobile_camera.values[:10])\n",
    "plt.ylabel('Number of items')\n",
    "plt.tick_params(axis='x', rotation=45)"
   ]
  },
  {
   "cell_type": "code",
   "execution_count": 44,
   "metadata": {},
   "outputs": [
    {
     "data": {
      "image/png": "[encoded data removed]",
      "text/plain": [
       "<Figure size 576x432 with 1 Axes>"
      ]
     },
     "metadata": {
      "needs_background": "light"
     },
     "output_type": "display_data"
    }
   ],
   "source": [
    "# Phone Screen Size\n",
    "counts_mobile_phone_screen_size = df_mobile_train_preprocessed['Phone Screen Size'].value_counts()\n",
    "dict_index2phonescreensize = {value: key for key, value in dict_mobile['Phone Screen Size'].items()}\n",
    "labels_mobile_phone_screen_size = ['NaN' if index == 999 else dict_index2phonescreensize[index]\\\n",
    "                                   for index in counts_mobile_phone_screen_size.index]\n",
    "plt.figure(figsize=(8, 6))\n",
    "plt.bar(labels_mobile_phone_screen_size[:10], counts_mobile_phone_screen_size.values[:10])\n",
    "plt.ylabel('Number of items')\n",
    "plt.tick_params(axis='x', rotation=45)"
   ]
  },
  {
   "cell_type": "code",
   "execution_count": null,
   "metadata": {},
   "outputs": [],
   "source": []
  }
 ],
 "metadata": {
  "kernelspec": {
   "display_name": "Python 3",
   "language": "python",
   "name": "python3"
  },
  "language_info": {
   "codemirror_mode": {
    "name": "ipython",
    "version": 3
   },
   "file_extension": ".py",
   "mimetype": "text/x-python",
   "name": "python",
   "nbconvert_exporter": "python",
   "pygments_lexer": "ipython3",
   "version": "3.6.8"
  }
 },
 "nbformat": 4,
 "nbformat_minor": 2
}
