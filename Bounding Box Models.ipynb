{
 "cells": [
  {
   "cell_type": "markdown",
   "metadata": {},
   "source": [
    "# Bounding Box Models for Image Recognition"
   ]
  },
  {
   "cell_type": "markdown",
   "metadata": {},
   "source": [
    "To improve the signal-to-noise ratio of images"
   ]
  },
  {
   "cell_type": "markdown",
   "metadata": {},
   "source": [
    "## Initial Setup"
   ]
  },
  {
   "cell_type": "markdown",
   "metadata": {},
   "source": [
    "Auto update from code base"
   ]
  },
  {
   "cell_type": "code",
   "execution_count": 1,
   "metadata": {},
   "outputs": [],
   "source": [
    "%load_ext autoreload\n",
    "%autoreload 2"
   ]
  },
  {
   "cell_type": "markdown",
   "metadata": {},
   "source": [
    "Import libraries"
   ]
  },
  {
   "cell_type": "code",
   "execution_count": 2,
   "metadata": {},
   "outputs": [],
   "source": [
    "import numpy as np\n",
    "import pandas as pd\n",
    "from matplotlib import pyplot as plt\n",
    "\n",
    "from tqdm import tqdm\n",
    "import PIL\n",
    "from PIL.ImageDraw import Draw\n",
    "import os\n",
    "import torch\n",
    "import torch.nn as nn\n",
    "import torch.optim as optim\n",
    "from torch.utils.data import DataLoader\n",
    "import torchvision\n",
    "from torchvision import models, transforms\n",
    "\n",
    "from src.data import pil_loader, BoundingBoxDataset\n",
    "from src.image_preprocessing import draw_dots\n",
    "from src.model_api_pytorch import BoundingBoxCNN, train_bb_model"
   ]
  },
  {
   "cell_type": "markdown",
   "metadata": {},
   "source": [
    "Read in bounding box coordinates"
   ]
  },
  {
   "cell_type": "code",
   "execution_count": 3,
   "metadata": {},
   "outputs": [],
   "source": [
    "bb_beauty_train = pd.read_csv('data/derived/beauty_bb_train.csv')\n",
    "bb_beauty_val = pd.read_csv('data/derived/beauty_bb_val.csv')\n",
    "\n",
    "bb_fashion_train = pd.read_csv('data/derived/fashion_bb_train.csv')\n",
    "bb_fashion_val = pd.read_csv('data/derived/fashion_bb_val.csv')\n",
    "\n",
    "bb_mobile_train = pd.read_csv('data/derived/mobile_bb_train.csv')\n",
    "bb_mobile_val = pd.read_csv('data/derived/mobile_bb_val.csv')"
   ]
  },
  {
   "cell_type": "markdown",
   "metadata": {},
   "source": [
    "## Compute Rescale Factors for Images"
   ]
  },
  {
   "cell_type": "markdown",
   "metadata": {},
   "source": [
    "Determine original height and width of images, and rescale factor for height and width\n",
    "\n",
    "__Note__:\n",
    "$$Width factor = \\frac{resize width}{original width}$$\n",
    "$$Height factor = \\frac{resize height}{original height}$$"
   ]
  },
  {
   "cell_type": "code",
   "execution_count": 4,
   "metadata": {},
   "outputs": [
    {
     "name": "stderr",
     "output_type": "stream",
     "text": [
      "100%|██████████| 80/80 [00:01<00:00, 62.18it/s]\n",
      "100%|██████████| 20/20 [00:00<00:00, 71.22it/s]\n",
      "100%|██████████| 80/80 [00:01<00:00, 45.65it/s]\n",
      "100%|██████████| 20/20 [00:00<00:00, 39.17it/s]\n",
      "100%|██████████| 80/80 [00:01<00:00, 77.31it/s]\n",
      "100%|██████████| 20/20 [00:00<00:00, 65.74it/s]\n"
     ]
    }
   ],
   "source": [
    "resize_width, resize_height = 224, 224\n",
    "\n",
    "for dataframe in [bb_beauty_train, bb_beauty_val, bb_fashion_train, bb_fashion_val, bb_mobile_train, bb_mobile_val]:\n",
    "    num_images = len(dataframe)\n",
    "    pbar = tqdm(total=num_images)\n",
    "    width_list, height_list = list(), list()\n",
    "    width_factor_list, height_factor_list = list(), list()\n",
    "    for image_path in dataframe['image_path']:\n",
    "        image_path_extended = os.path.join('data/raw', image_path)\n",
    "        image = pil_loader(image_path_extended)\n",
    "        width, height = image.size\n",
    "        width_factor, height_factor = resize_width / width, resize_height / height\n",
    "        width_list.append(width)\n",
    "        height_list.append(height)\n",
    "        width_factor_list.append(width_factor)\n",
    "        height_factor_list.append(height_factor)\n",
    "        pbar.update()\n",
    "    dataframe['width'] = width_list\n",
    "    dataframe['height'] = height_list\n",
    "    dataframe['width_factor'] = width_factor_list\n",
    "    dataframe['height_factor'] = height_factor_list\n",
    "    pbar.close()"
   ]
  },
  {
   "cell_type": "markdown",
   "metadata": {},
   "source": [
    "## Prepare data for Model Training"
   ]
  },
  {
   "cell_type": "markdown",
   "metadata": {},
   "source": [
    "Filter out \"easy\" data"
   ]
  },
  {
   "cell_type": "code",
   "execution_count": 5,
   "metadata": {},
   "outputs": [],
   "source": [
    "bb_beauty_train_easy = bb_beauty_train[bb_beauty_train['difficulty'] == 'easy']\n",
    "bb_fashion_train_easy = bb_fashion_train[bb_fashion_train['difficulty'] == 'easy']\n",
    "bb_mobile_train_easy = bb_mobile_train[bb_mobile_train['difficulty'] == 'easy']"
   ]
  },
  {
   "cell_type": "code",
   "execution_count": 6,
   "metadata": {},
   "outputs": [
    {
     "data": {
      "text/plain": [
       "((43, 10), (42, 10), (33, 10))"
      ]
     },
     "execution_count": 6,
     "metadata": {},
     "output_type": "execute_result"
    }
   ],
   "source": [
    "bb_beauty_train_easy.shape, bb_fashion_train_easy.shape, bb_mobile_train_easy.shape"
   ]
  },
  {
   "cell_type": "markdown",
   "metadata": {},
   "source": [
    "Transforms for images"
   ]
  },
  {
   "cell_type": "code",
   "execution_count": 7,
   "metadata": {},
   "outputs": [],
   "source": [
    "transforms = transforms.Compose([\n",
    "    transforms.Resize(224),\n",
    "    transforms.ToTensor(),\n",
    "    transforms.Normalize([0.485, 0.456, 0.406], [0.229, 0.224, 0.225])\n",
    "    ])"
   ]
  },
  {
   "cell_type": "markdown",
   "metadata": {},
   "source": [
    "Create datasets for training"
   ]
  },
  {
   "cell_type": "code",
   "execution_count": 8,
   "metadata": {},
   "outputs": [],
   "source": [
    "dataset_beauty_train = BoundingBoxDataset(df=bb_beauty_train, root_dir='data/raw', transform=True, horizontal_flip=True)\n",
    "dataset_beauty_val = BoundingBoxDataset(df=bb_beauty_val, root_dir='data/raw', transform=True, horizontal_flip=False)\n",
    "\n",
    "dataset_fashion_train = BoundingBoxDataset(df=bb_fashion_train, root_dir='data/raw', transform=True, horizontal_flip=True)\n",
    "dataset_fashion_val = BoundingBoxDataset(df=bb_fashion_val, root_dir='data/raw', transform=True, horizontal_flip=False)\n",
    "\n",
    "dataset_mobile_train = BoundingBoxDataset(df=bb_mobile_train, root_dir='data/raw', transform=True, horizontal_flip=True)\n",
    "dataset_mobile_val = BoundingBoxDataset(df=bb_mobile_val, root_dir='data/raw', transform=True, horizontal_flip=False)"
   ]
  },
  {
   "cell_type": "markdown",
   "metadata": {},
   "source": [
    "## Build models"
   ]
  },
  {
   "cell_type": "markdown",
   "metadata": {},
   "source": [
    "Transfer learning with ResNet18"
   ]
  },
  {
   "cell_type": "code",
   "execution_count": 9,
   "metadata": {},
   "outputs": [
    {
     "name": "stdout",
     "output_type": "stream",
     "text": [
      "conv1 is frozen\n",
      "bn1 is frozen\n",
      "relu is frozen\n",
      "maxpool is frozen\n",
      "layer1 is frozen\n",
      "layer2 is frozen\n",
      "layer3 is frozen\n",
      "layer4 is unfrozen\n",
      "avgpool is frozen\n",
      "fc is frozen\n"
     ]
    }
   ],
   "source": [
    "## Beauty\n",
    "model_beauty_ft = models.resnet18(pretrained=True)\n",
    "# Freeze pre-trained layers\n",
    "# for param in model_beauty_ft.parameters():\n",
    "#     param.requires_grad = False\n",
    "# Unfreeze last layer\n",
    "for name, child in model_beauty_ft.named_children():\n",
    "    if name in ['layer4']:\n",
    "        print(name, 'is unfrozen')\n",
    "        for param in child.parameters():\n",
    "            param.requires_grad = True\n",
    "    else:\n",
    "        print(name, 'is frozen')\n",
    "        for param in child.parameters():\n",
    "            param.requires_grad = False\n",
    "# model_beauty_bb = BoundingBoxCNN(model_pretrained=model_beauty_ft, dropout_rate=0.3)\n",
    "\n",
    "## Fashion\n",
    "model_fashion_ft = models.resnet18(pretrained=True)\n",
    "# Freeze pre-trained layers\n",
    "for param in model_fashion_ft.parameters():\n",
    "    param.requires_grad = False\n",
    "# model_fashion_bb = BoundingBoxCNN(model_pretrained=model_fashion_ft, dropout_rate=0.3)\n",
    "\n",
    "## Mobile\n",
    "model_mobile_ft = models.resnet18(pretrained=True)\n",
    "# Freeze pre-trained layers\n",
    "for param in model_mobile_ft.parameters():\n",
    "    param.requires_grad = False\n",
    "# model_mobile_bb = BoundingBoxCNN(model_pretrained=model_mobile_ft, dropout_rate=0.3)"
   ]
  },
  {
   "cell_type": "markdown",
   "metadata": {},
   "source": [
    "Build additional FC layer after pre-trained models"
   ]
  },
  {
   "cell_type": "code",
   "execution_count": 10,
   "metadata": {},
   "outputs": [],
   "source": [
    "# Number of features in output of pretrained model\n",
    "num_ftrs_beauty = model_beauty_ft.fc.out_features\n",
    "fc_size_beauty = int(round(num_ftrs_beauty / 2, -2))\n",
    "num_ftrs_fashion = model_fashion_ft.fc.out_features\n",
    "fc_size_fashion = int(round(num_ftrs_fashion / 3, -2))\n",
    "num_ftrs_mobile = model_mobile_ft.fc.out_features\n",
    "fc_size_mobile = int(round(num_ftrs_mobile / 3, -2))\n",
    "\n",
    "model_beauty_bb = nn.Sequential(model_beauty_ft,\n",
    "                                nn.Linear(num_ftrs_beauty, fc_size_beauty),\n",
    "                                nn.ReLU(),\n",
    "                                nn.Dropout(p=0.5),\n",
    "                                nn.Linear(fc_size_beauty, fc_size_beauty),\n",
    "                                nn.ReLU(),\n",
    "                                nn.Dropout(p=0.5),\n",
    "                                nn.Linear(fc_size_beauty, fc_size_beauty),\n",
    "                                nn.ReLU(),\n",
    "                                nn.Dropout(p=0.5),\n",
    "                                nn.Linear(fc_size_beauty, 4))\n",
    "\n",
    "model_fashion_bb = nn.Sequential(model_fashion_ft,\n",
    "                                 nn.Linear(num_ftrs_fashion, fc_size_fashion),\n",
    "                                 nn.ReLU(),\n",
    "                                 nn.Dropout(p=0.3),\n",
    "                                 nn.ReLU(),\n",
    "                                 nn.Linear(fc_size_fashion, 4))\n",
    "\n",
    "model_mobile_bb = nn.Sequential(model_mobile_ft,\n",
    "                                nn.Linear(num_ftrs_mobile, fc_size_mobile),\n",
    "                                nn.ReLU(),\n",
    "                                nn.Dropout(p=0.3),\n",
    "                                nn.ReLU(),\n",
    "                                nn.Linear(fc_size_mobile, 4))"
   ]
  },
  {
   "cell_type": "markdown",
   "metadata": {},
   "source": [
    "Define device (CPU or CUDA), configure models for multiple GPUs and copy models to device"
   ]
  },
  {
   "cell_type": "code",
   "execution_count": 11,
   "metadata": {},
   "outputs": [],
   "source": [
    "# device0 = torch.device('cuda:0' if torch.cuda.is_available() else 'cpu')\n",
    "# print(device0)\n",
    "# if torch.cuda.device_count() == 2:\n",
    "#     device1 = torch.device('cuda:1')\n",
    "#     print(device1)\n",
    "\n",
    "# model_beauty_bb.set_multiple_gpus()\n",
    "if torch.cuda.is_available():\n",
    "    if torch.cuda.device_count() > 1:\n",
    "        model_beauty_bb = nn.DataParallel(model_beauty_bb)\n",
    "        model_fashion_bb = nn.DataParallel(model_fashion_bb)\n",
    "        model_mobile_bb = nn.DataParallel(model_mobile_bb)\n",
    "    \n",
    "    model_beauty_bb.cuda()\n",
    "    model_fashion_bb.cuda()\n",
    "    model_mobile_bb.cuda()"
   ]
  },
  {
   "cell_type": "markdown",
   "metadata": {},
   "source": [
    "## Train Models"
   ]
  },
  {
   "cell_type": "markdown",
   "metadata": {},
   "source": [
    "### Beauty"
   ]
  },
  {
   "cell_type": "markdown",
   "metadata": {},
   "source": [
    "Define criterion and optimizer"
   ]
  },
  {
   "cell_type": "code",
   "execution_count": 12,
   "metadata": {},
   "outputs": [],
   "source": [
    "criterion = nn.MSELoss()\n",
    "optimizer_beauty = optim.Adam(filter(lambda p: p.requires_grad, model_beauty_bb.parameters()), lr=1e-4, weight_decay=0.01)"
   ]
  },
  {
   "cell_type": "markdown",
   "metadata": {},
   "source": [
    "Training with easy data only"
   ]
  },
  {
   "cell_type": "code",
   "execution_count": 13,
   "metadata": {
    "scrolled": true
   },
   "outputs": [
    {
     "name": "stderr",
     "output_type": "stream",
     "text": [
      "\r",
      "  0%|          | 0/45 [00:00<?, ?it/s]"
     ]
    },
    {
     "name": "stdout",
     "output_type": "stream",
     "text": [
      "Epoch 1/10\n",
      "----------\n"
     ]
    },
    {
     "name": "stderr",
     "output_type": "stream",
     "text": [
      "100%|██████████| 45/45 [00:08<00:00,  6.99it/s]\n",
      "100%|██████████| 5/5 [00:00<00:00,  9.90it/s]\n",
      "  2%|▏         | 1/45 [00:00<00:05,  8.03it/s]"
     ]
    },
    {
     "name": "stdout",
     "output_type": "stream",
     "text": [
      "Training Loss: 690349.7188\n",
      "Vallidation Loss: 78965.8422\n",
      "\n",
      "Epoch 2/10\n",
      "----------\n"
     ]
    },
    {
     "name": "stderr",
     "output_type": "stream",
     "text": [
      "100%|██████████| 45/45 [00:06<00:00,  7.14it/s]\n",
      "100%|██████████| 5/5 [00:00<00:00, 10.07it/s]\n",
      "  2%|▏         | 1/45 [00:00<00:05,  8.43it/s]"
     ]
    },
    {
     "name": "stdout",
     "output_type": "stream",
     "text": [
      "Training Loss: 514972.9594\n",
      "Vallidation Loss: 167900.7437\n",
      "\n",
      "Epoch 3/10\n",
      "----------\n"
     ]
    },
    {
     "name": "stderr",
     "output_type": "stream",
     "text": [
      "100%|██████████| 45/45 [00:06<00:00,  6.74it/s]\n",
      "100%|██████████| 5/5 [00:00<00:00,  9.63it/s]\n",
      "  2%|▏         | 1/45 [00:00<00:05,  8.61it/s]"
     ]
    },
    {
     "name": "stdout",
     "output_type": "stream",
     "text": [
      "Training Loss: 321600.9163\n",
      "Vallidation Loss: 278493.6586\n",
      "\n",
      "Epoch 4/10\n",
      "----------\n"
     ]
    },
    {
     "name": "stderr",
     "output_type": "stream",
     "text": [
      "100%|██████████| 45/45 [00:06<00:00,  6.90it/s]\n",
      "100%|██████████| 5/5 [00:00<00:00,  9.91it/s]\n",
      "  2%|▏         | 1/45 [00:00<00:05,  7.45it/s]"
     ]
    },
    {
     "name": "stdout",
     "output_type": "stream",
     "text": [
      "Training Loss: 329016.4455\n",
      "Vallidation Loss: 505399.5547\n",
      "\n",
      "Epoch 5/10\n",
      "----------\n"
     ]
    },
    {
     "name": "stderr",
     "output_type": "stream",
     "text": [
      "100%|██████████| 45/45 [00:05<00:00,  7.43it/s]\n",
      "100%|██████████| 5/5 [00:00<00:00,  9.75it/s]\n",
      "  2%|▏         | 1/45 [00:00<00:06,  6.69it/s]"
     ]
    },
    {
     "name": "stdout",
     "output_type": "stream",
     "text": [
      "Training Loss: 250724.3507\n",
      "Vallidation Loss: 304935.2211\n",
      "\n",
      "Epoch 6/10\n",
      "----------\n"
     ]
    },
    {
     "name": "stderr",
     "output_type": "stream",
     "text": [
      "100%|██████████| 45/45 [00:05<00:00,  8.10it/s]\n",
      "100%|██████████| 5/5 [00:00<00:00, 10.11it/s]\n",
      "  2%|▏         | 1/45 [00:00<00:05,  7.89it/s]"
     ]
    },
    {
     "name": "stdout",
     "output_type": "stream",
     "text": [
      "Training Loss: 352967.2840\n",
      "Vallidation Loss: 387390.9406\n",
      "\n",
      "Epoch 7/10\n",
      "----------\n"
     ]
    },
    {
     "name": "stderr",
     "output_type": "stream",
     "text": [
      "100%|██████████| 45/45 [00:06<00:00,  6.46it/s]\n",
      "100%|██████████| 5/5 [00:00<00:00,  9.98it/s]\n",
      "  2%|▏         | 1/45 [00:00<00:05,  7.37it/s]"
     ]
    },
    {
     "name": "stdout",
     "output_type": "stream",
     "text": [
      "Training Loss: 286527.9531\n",
      "Vallidation Loss: 216488.3484\n",
      "\n",
      "Epoch 8/10\n",
      "----------\n"
     ]
    },
    {
     "name": "stderr",
     "output_type": "stream",
     "text": [
      "100%|██████████| 45/45 [00:05<00:00,  7.21it/s]\n",
      "100%|██████████| 5/5 [00:00<00:00, 10.03it/s]\n",
      "  2%|▏         | 1/45 [00:00<00:06,  6.71it/s]"
     ]
    },
    {
     "name": "stdout",
     "output_type": "stream",
     "text": [
      "Training Loss: 286320.9642\n",
      "Vallidation Loss: 310118.5563\n",
      "\n",
      "Epoch 9/10\n",
      "----------\n"
     ]
    },
    {
     "name": "stderr",
     "output_type": "stream",
     "text": [
      "100%|██████████| 45/45 [00:05<00:00,  8.21it/s]\n",
      "100%|██████████| 5/5 [00:00<00:00,  9.99it/s]\n",
      "  2%|▏         | 1/45 [00:00<00:07,  6.11it/s]"
     ]
    },
    {
     "name": "stdout",
     "output_type": "stream",
     "text": [
      "Training Loss: 199603.4097\n",
      "Vallidation Loss: 480037.1750\n",
      "\n",
      "Epoch 10/10\n",
      "----------\n"
     ]
    },
    {
     "name": "stderr",
     "output_type": "stream",
     "text": [
      "100%|██████████| 45/45 [00:06<00:00,  7.57it/s]\n",
      "100%|██████████| 5/5 [00:00<00:00, 10.02it/s]"
     ]
    },
    {
     "name": "stdout",
     "output_type": "stream",
     "text": [
      "Training Loss: 270359.9476\n",
      "Vallidation Loss: 924366.7438\n",
      "\n",
      "Training completed in 1m 8s\n"
     ]
    },
    {
     "name": "stderr",
     "output_type": "stream",
     "text": [
      "\n"
     ]
    }
   ],
   "source": [
    "num_epochs = 10\n",
    "\n",
    "model_beauty_bb, train_loss_beauty_1, val_loss_beauty_1 = train_bb_model(model=model_beauty_bb,\n",
    "                                                                         df_train=bb_beauty_train_easy,\n",
    "                                                                         df_val=bb_beauty_val,\n",
    "                                                                         root_dir='data/raw',\n",
    "                                                                         criterion=criterion,\n",
    "                                                                         optimizer=optimizer_beauty,\n",
    "                                                                         bootstrap_size=180,\n",
    "                                                                         num_epochs=num_epochs,\n",
    "                                                                         batch_size=4,\n",
    "                                                                         num_workers=0)"
   ]
  },
  {
   "cell_type": "code",
   "execution_count": 14,
   "metadata": {},
   "outputs": [
    {
     "data": {
      "text/plain": [
       "<matplotlib.legend.Legend at 0x7f373c07f2b0>"
      ]
     },
     "execution_count": 14,
     "metadata": {},
     "output_type": "execute_result"
    },
    {
     "data": {
      "image/png": "[encoded data removed]",
      "text/plain": [
       "<Figure size 432x288 with 1 Axes>"
      ]
     },
     "metadata": {
      "needs_background": "light"
     },
     "output_type": "display_data"
    }
   ],
   "source": [
    "plt.plot(range(1, num_epochs+1), train_loss_beauty_1, label='Training Loss')\n",
    "plt.plot(range(1, num_epochs+1), val_loss_beauty_1, label='Validation Loss')\n",
    "plt.legend(loc='best')\n",
    "# plt.savefig('bb_loss_beauty.png')"
   ]
  },
  {
   "cell_type": "markdown",
   "metadata": {},
   "source": [
    "Training with full dataset"
   ]
  },
  {
   "cell_type": "code",
   "execution_count": 15,
   "metadata": {
    "scrolled": true
   },
   "outputs": [
    {
     "name": "stderr",
     "output_type": "stream",
     "text": [
      "  2%|▏         | 1/45 [00:00<00:06,  6.68it/s]"
     ]
    },
    {
     "name": "stdout",
     "output_type": "stream",
     "text": [
      "Epoch 1/50\n",
      "----------\n"
     ]
    },
    {
     "name": "stderr",
     "output_type": "stream",
     "text": [
      "100%|██████████| 45/45 [00:06<00:00,  7.66it/s]\n",
      "100%|██████████| 5/5 [00:00<00:00, 10.02it/s]\n",
      "  2%|▏         | 1/45 [00:00<00:06,  6.83it/s]"
     ]
    },
    {
     "name": "stdout",
     "output_type": "stream",
     "text": [
      "Training Loss: 313717.6653\n",
      "Vallidation Loss: 978927.4437\n",
      "\n",
      "Epoch 2/50\n",
      "----------\n"
     ]
    },
    {
     "name": "stderr",
     "output_type": "stream",
     "text": [
      "100%|██████████| 45/45 [00:06<00:00,  6.89it/s]\n",
      "100%|██████████| 5/5 [00:00<00:00,  9.67it/s]\n",
      "  2%|▏         | 1/45 [00:00<00:07,  5.62it/s]"
     ]
    },
    {
     "name": "stdout",
     "output_type": "stream",
     "text": [
      "Training Loss: 273531.6604\n",
      "Vallidation Loss: 434580.4953\n",
      "\n",
      "Epoch 3/50\n",
      "----------\n"
     ]
    },
    {
     "name": "stderr",
     "output_type": "stream",
     "text": [
      "100%|██████████| 45/45 [00:06<00:00,  6.94it/s]\n",
      "100%|██████████| 5/5 [00:00<00:00,  9.90it/s]\n",
      "  2%|▏         | 1/45 [00:00<00:05,  8.44it/s]"
     ]
    },
    {
     "name": "stdout",
     "output_type": "stream",
     "text": [
      "Training Loss: 329881.3479\n",
      "Vallidation Loss: 540227.1250\n",
      "\n",
      "Epoch 4/50\n",
      "----------\n"
     ]
    },
    {
     "name": "stderr",
     "output_type": "stream",
     "text": [
      "100%|██████████| 45/45 [00:06<00:00,  6.91it/s]\n",
      "100%|██████████| 5/5 [00:00<00:00, 10.03it/s]\n",
      "  2%|▏         | 1/45 [00:00<00:05,  7.61it/s]"
     ]
    },
    {
     "name": "stdout",
     "output_type": "stream",
     "text": [
      "Training Loss: 290361.5715\n",
      "Vallidation Loss: 881459.5000\n",
      "\n",
      "Epoch 5/50\n",
      "----------\n"
     ]
    },
    {
     "name": "stderr",
     "output_type": "stream",
     "text": [
      "100%|██████████| 45/45 [00:06<00:00,  7.19it/s]\n",
      "100%|██████████| 5/5 [00:00<00:00, 10.00it/s]\n",
      "  2%|▏         | 1/45 [00:00<00:06,  6.78it/s]"
     ]
    },
    {
     "name": "stdout",
     "output_type": "stream",
     "text": [
      "Training Loss: 271611.8920\n",
      "Vallidation Loss: 490983.0375\n",
      "\n",
      "Epoch 6/50\n",
      "----------\n"
     ]
    },
    {
     "name": "stderr",
     "output_type": "stream",
     "text": [
      "100%|██████████| 45/45 [00:06<00:00,  7.71it/s]\n",
      "100%|██████████| 5/5 [00:00<00:00,  9.96it/s]\n",
      "  2%|▏         | 1/45 [00:00<00:05,  7.64it/s]"
     ]
    },
    {
     "name": "stdout",
     "output_type": "stream",
     "text": [
      "Training Loss: 258069.2505\n",
      "Vallidation Loss: 557403.1000\n",
      "\n",
      "Epoch 7/50\n",
      "----------\n"
     ]
    },
    {
     "name": "stderr",
     "output_type": "stream",
     "text": [
      "100%|██████████| 45/45 [00:06<00:00,  6.95it/s]\n",
      "100%|██████████| 5/5 [00:00<00:00,  9.98it/s]\n",
      "  2%|▏         | 1/45 [00:00<00:06,  7.15it/s]"
     ]
    },
    {
     "name": "stdout",
     "output_type": "stream",
     "text": [
      "Training Loss: 268574.5056\n",
      "Vallidation Loss: 627936.8750\n",
      "\n",
      "Epoch 8/50\n",
      "----------\n"
     ]
    },
    {
     "name": "stderr",
     "output_type": "stream",
     "text": [
      "100%|██████████| 45/45 [00:06<00:00,  6.99it/s]\n",
      "100%|██████████| 5/5 [00:00<00:00,  9.97it/s]\n",
      "  2%|▏         | 1/45 [00:00<00:06,  6.99it/s]"
     ]
    },
    {
     "name": "stdout",
     "output_type": "stream",
     "text": [
      "Training Loss: 212073.5929\n",
      "Vallidation Loss: 267724.5687\n",
      "\n",
      "Epoch 9/50\n",
      "----------\n"
     ]
    },
    {
     "name": "stderr",
     "output_type": "stream",
     "text": [
      "100%|██████████| 45/45 [00:06<00:00,  7.49it/s]\n",
      "100%|██████████| 5/5 [00:00<00:00,  9.96it/s]\n",
      "  2%|▏         | 1/45 [00:00<00:04,  9.29it/s]"
     ]
    },
    {
     "name": "stdout",
     "output_type": "stream",
     "text": [
      "Training Loss: 253814.9684\n",
      "Vallidation Loss: 1068935.4187\n",
      "\n",
      "Epoch 10/50\n",
      "----------\n"
     ]
    },
    {
     "name": "stderr",
     "output_type": "stream",
     "text": [
      "100%|██████████| 45/45 [00:05<00:00,  7.67it/s]\n",
      "100%|██████████| 5/5 [00:00<00:00,  9.98it/s]\n",
      "  2%|▏         | 1/45 [00:00<00:06,  7.23it/s]"
     ]
    },
    {
     "name": "stdout",
     "output_type": "stream",
     "text": [
      "Training Loss: 350132.9243\n",
      "Vallidation Loss: 888491.4625\n",
      "\n",
      "Epoch 11/50\n",
      "----------\n"
     ]
    },
    {
     "name": "stderr",
     "output_type": "stream",
     "text": [
      "100%|██████████| 45/45 [00:06<00:00,  7.48it/s]\n",
      "100%|██████████| 5/5 [00:00<00:00, 10.00it/s]\n",
      "  2%|▏         | 1/45 [00:00<00:06,  7.15it/s]"
     ]
    },
    {
     "name": "stdout",
     "output_type": "stream",
     "text": [
      "Training Loss: 202793.7988\n",
      "Vallidation Loss: 409439.3656\n",
      "\n",
      "Epoch 12/50\n",
      "----------\n"
     ]
    },
    {
     "name": "stderr",
     "output_type": "stream",
     "text": [
      "100%|██████████| 45/45 [00:06<00:00,  7.23it/s]\n",
      "100%|██████████| 5/5 [00:00<00:00, 10.10it/s]\n",
      "  2%|▏         | 1/45 [00:00<00:06,  6.95it/s]"
     ]
    },
    {
     "name": "stdout",
     "output_type": "stream",
     "text": [
      "Training Loss: 243020.0630\n",
      "Vallidation Loss: 483542.2906\n",
      "\n",
      "Epoch 13/50\n",
      "----------\n"
     ]
    },
    {
     "name": "stderr",
     "output_type": "stream",
     "text": [
      "100%|██████████| 45/45 [00:06<00:00,  6.58it/s]\n",
      "100%|██████████| 5/5 [00:00<00:00,  8.24it/s]\n",
      "  2%|▏         | 1/45 [00:00<00:06,  6.89it/s]"
     ]
    },
    {
     "name": "stdout",
     "output_type": "stream",
     "text": [
      "Training Loss: 271358.6493\n",
      "Vallidation Loss: 170003.6203\n",
      "\n",
      "Epoch 14/50\n",
      "----------\n"
     ]
    },
    {
     "name": "stderr",
     "output_type": "stream",
     "text": [
      "100%|██████████| 45/45 [00:06<00:00,  7.26it/s]\n",
      "100%|██████████| 5/5 [00:00<00:00,  9.94it/s]\n",
      "  2%|▏         | 1/45 [00:00<00:04,  9.12it/s]"
     ]
    },
    {
     "name": "stdout",
     "output_type": "stream",
     "text": [
      "Training Loss: 323611.6924\n",
      "Vallidation Loss: 276931.9047\n",
      "\n",
      "Epoch 15/50\n",
      "----------\n"
     ]
    },
    {
     "name": "stderr",
     "output_type": "stream",
     "text": [
      "100%|██████████| 45/45 [00:06<00:00,  7.34it/s]\n",
      "100%|██████████| 5/5 [00:00<00:00,  9.97it/s]\n",
      "  2%|▏         | 1/45 [00:00<00:05,  7.41it/s]"
     ]
    },
    {
     "name": "stdout",
     "output_type": "stream",
     "text": [
      "Training Loss: 283159.7155\n",
      "Vallidation Loss: 191431.0484\n",
      "\n",
      "Epoch 16/50\n",
      "----------\n"
     ]
    },
    {
     "name": "stderr",
     "output_type": "stream",
     "text": [
      "100%|██████████| 45/45 [00:06<00:00,  7.39it/s]\n",
      "100%|██████████| 5/5 [00:00<00:00, 10.11it/s]\n",
      "  2%|▏         | 1/45 [00:00<00:07,  5.50it/s]"
     ]
    },
    {
     "name": "stdout",
     "output_type": "stream",
     "text": [
      "Training Loss: 263195.9896\n",
      "Vallidation Loss: 191165.8250\n",
      "\n",
      "Epoch 17/50\n",
      "----------\n"
     ]
    },
    {
     "name": "stderr",
     "output_type": "stream",
     "text": [
      "100%|██████████| 45/45 [00:06<00:00,  6.89it/s]\n",
      "100%|██████████| 5/5 [00:00<00:00,  9.96it/s]\n",
      "  2%|▏         | 1/45 [00:00<00:07,  6.06it/s]"
     ]
    },
    {
     "name": "stdout",
     "output_type": "stream",
     "text": [
      "Training Loss: 217745.6205\n",
      "Vallidation Loss: 221953.2719\n",
      "\n",
      "Epoch 18/50\n",
      "----------\n"
     ]
    },
    {
     "name": "stderr",
     "output_type": "stream",
     "text": [
      "100%|██████████| 45/45 [00:06<00:00,  6.93it/s]\n",
      "100%|██████████| 5/5 [00:00<00:00,  9.99it/s]\n",
      "  2%|▏         | 1/45 [00:00<00:05,  8.24it/s]"
     ]
    },
    {
     "name": "stdout",
     "output_type": "stream",
     "text": [
      "Training Loss: 262537.8490\n",
      "Vallidation Loss: 185732.5047\n",
      "\n",
      "Epoch 19/50\n",
      "----------\n"
     ]
    },
    {
     "name": "stderr",
     "output_type": "stream",
     "text": [
      "100%|██████████| 45/45 [00:06<00:00,  7.55it/s]\n",
      "100%|██████████| 5/5 [00:00<00:00,  9.63it/s]\n",
      "  2%|▏         | 1/45 [00:00<00:06,  6.48it/s]"
     ]
    },
    {
     "name": "stdout",
     "output_type": "stream",
     "text": [
      "Training Loss: 251389.7439\n",
      "Vallidation Loss: 216749.2844\n",
      "\n",
      "Epoch 20/50\n",
      "----------\n"
     ]
    },
    {
     "name": "stderr",
     "output_type": "stream",
     "text": [
      "100%|██████████| 45/45 [00:06<00:00,  7.30it/s]\n",
      "100%|██████████| 5/5 [00:00<00:00,  9.79it/s]\n",
      "  2%|▏         | 1/45 [00:00<00:05,  8.13it/s]"
     ]
    },
    {
     "name": "stdout",
     "output_type": "stream",
     "text": [
      "Training Loss: 279681.9983\n",
      "Vallidation Loss: 252771.4875\n",
      "\n",
      "Epoch 21/50\n",
      "----------\n"
     ]
    },
    {
     "name": "stderr",
     "output_type": "stream",
     "text": [
      "100%|██████████| 45/45 [00:06<00:00,  7.58it/s]\n",
      "100%|██████████| 5/5 [00:00<00:00,  9.93it/s]\n",
      "  2%|▏         | 1/45 [00:00<00:06,  7.22it/s]"
     ]
    },
    {
     "name": "stdout",
     "output_type": "stream",
     "text": [
      "Training Loss: 265234.2991\n",
      "Vallidation Loss: 305497.7906\n",
      "\n",
      "Epoch 22/50\n",
      "----------\n"
     ]
    },
    {
     "name": "stderr",
     "output_type": "stream",
     "text": [
      "100%|██████████| 45/45 [00:06<00:00,  7.10it/s]\n",
      "100%|██████████| 5/5 [00:00<00:00, 10.01it/s]\n",
      "  2%|▏         | 1/45 [00:00<00:05,  8.03it/s]"
     ]
    },
    {
     "name": "stdout",
     "output_type": "stream",
     "text": [
      "Training Loss: 276145.3024\n",
      "Vallidation Loss: 246915.4125\n",
      "\n",
      "Epoch 23/50\n",
      "----------\n"
     ]
    },
    {
     "name": "stderr",
     "output_type": "stream",
     "text": [
      "100%|██████████| 45/45 [00:06<00:00,  7.28it/s]\n",
      "100%|██████████| 5/5 [00:00<00:00,  9.78it/s]\n",
      "  2%|▏         | 1/45 [00:00<00:04,  9.50it/s]"
     ]
    },
    {
     "name": "stdout",
     "output_type": "stream",
     "text": [
      "Training Loss: 269143.9726\n",
      "Vallidation Loss: 164366.6797\n",
      "\n",
      "Epoch 24/50\n",
      "----------\n"
     ]
    },
    {
     "name": "stderr",
     "output_type": "stream",
     "text": [
      "100%|██████████| 45/45 [00:06<00:00,  7.68it/s]\n",
      "100%|██████████| 5/5 [00:00<00:00,  9.96it/s]\n",
      "  2%|▏         | 1/45 [00:00<00:05,  7.47it/s]"
     ]
    },
    {
     "name": "stdout",
     "output_type": "stream",
     "text": [
      "Training Loss: 308630.2472\n",
      "Vallidation Loss: 212084.6750\n",
      "\n",
      "Epoch 25/50\n",
      "----------\n"
     ]
    },
    {
     "name": "stderr",
     "output_type": "stream",
     "text": [
      "100%|██████████| 45/45 [00:06<00:00,  7.35it/s]\n",
      "100%|██████████| 5/5 [00:00<00:00,  9.99it/s]\n",
      "  2%|▏         | 1/45 [00:00<00:06,  6.87it/s]"
     ]
    },
    {
     "name": "stdout",
     "output_type": "stream",
     "text": [
      "Training Loss: 180533.2181\n",
      "Vallidation Loss: 200663.6109\n",
      "\n",
      "Epoch 26/50\n",
      "----------\n"
     ]
    },
    {
     "name": "stderr",
     "output_type": "stream",
     "text": [
      "100%|██████████| 45/45 [00:06<00:00,  7.85it/s]\n",
      "100%|██████████| 5/5 [00:00<00:00,  9.93it/s]\n",
      "  2%|▏         | 1/45 [00:00<00:06,  6.42it/s]"
     ]
    },
    {
     "name": "stdout",
     "output_type": "stream",
     "text": [
      "Training Loss: 237264.5153\n",
      "Vallidation Loss: 157927.2250\n",
      "\n",
      "Epoch 27/50\n",
      "----------\n"
     ]
    },
    {
     "name": "stderr",
     "output_type": "stream",
     "text": [
      "100%|██████████| 45/45 [00:06<00:00,  7.22it/s]\n",
      "100%|██████████| 5/5 [00:00<00:00, 10.01it/s]\n",
      "  2%|▏         | 1/45 [00:00<00:05,  7.74it/s]"
     ]
    },
    {
     "name": "stdout",
     "output_type": "stream",
     "text": [
      "Training Loss: 311512.3441\n",
      "Vallidation Loss: 199194.8250\n",
      "\n",
      "Epoch 28/50\n",
      "----------\n"
     ]
    },
    {
     "name": "stderr",
     "output_type": "stream",
     "text": [
      "100%|██████████| 45/45 [00:06<00:00,  6.88it/s]\n",
      "100%|██████████| 5/5 [00:00<00:00,  9.97it/s]\n",
      "  2%|▏         | 1/45 [00:00<00:05,  7.73it/s]"
     ]
    },
    {
     "name": "stdout",
     "output_type": "stream",
     "text": [
      "Training Loss: 348157.8538\n",
      "Vallidation Loss: 136279.5281\n",
      "\n",
      "Epoch 29/50\n",
      "----------\n"
     ]
    },
    {
     "name": "stderr",
     "output_type": "stream",
     "text": [
      "100%|██████████| 45/45 [00:06<00:00,  7.39it/s]\n",
      "100%|██████████| 5/5 [00:00<00:00,  9.07it/s]\n",
      "  2%|▏         | 1/45 [00:00<00:07,  6.00it/s]"
     ]
    },
    {
     "name": "stdout",
     "output_type": "stream",
     "text": [
      "Training Loss: 246865.7722\n",
      "Vallidation Loss: 179602.2516\n",
      "\n",
      "Epoch 30/50\n",
      "----------\n"
     ]
    },
    {
     "name": "stderr",
     "output_type": "stream",
     "text": [
      "100%|██████████| 45/45 [00:06<00:00,  7.30it/s]\n",
      "100%|██████████| 5/5 [00:00<00:00,  9.99it/s]\n",
      "  2%|▏         | 1/45 [00:00<00:06,  6.92it/s]"
     ]
    },
    {
     "name": "stdout",
     "output_type": "stream",
     "text": [
      "Training Loss: 200182.9417\n",
      "Vallidation Loss: 177577.0812\n",
      "\n",
      "Epoch 31/50\n",
      "----------\n"
     ]
    },
    {
     "name": "stderr",
     "output_type": "stream",
     "text": [
      "100%|██████████| 45/45 [00:06<00:00,  7.12it/s]\n",
      "100%|██████████| 5/5 [00:00<00:00, 10.04it/s]\n",
      "  2%|▏         | 1/45 [00:00<00:05,  7.70it/s]"
     ]
    },
    {
     "name": "stdout",
     "output_type": "stream",
     "text": [
      "Training Loss: 269353.6024\n",
      "Vallidation Loss: 165359.6859\n",
      "\n",
      "Epoch 32/50\n",
      "----------\n"
     ]
    },
    {
     "name": "stderr",
     "output_type": "stream",
     "text": [
      "100%|██████████| 45/45 [00:06<00:00,  7.63it/s]\n",
      "100%|██████████| 5/5 [00:00<00:00,  9.72it/s]\n",
      "  2%|▏         | 1/45 [00:00<00:05,  7.91it/s]"
     ]
    },
    {
     "name": "stdout",
     "output_type": "stream",
     "text": [
      "Training Loss: 291254.2569\n",
      "Vallidation Loss: 191489.4281\n",
      "\n",
      "Epoch 33/50\n",
      "----------\n"
     ]
    },
    {
     "name": "stderr",
     "output_type": "stream",
     "text": [
      "100%|██████████| 45/45 [00:06<00:00,  7.60it/s]\n",
      "100%|██████████| 5/5 [00:00<00:00,  9.99it/s]\n",
      "  2%|▏         | 1/45 [00:00<00:05,  8.14it/s]"
     ]
    },
    {
     "name": "stdout",
     "output_type": "stream",
     "text": [
      "Training Loss: 283984.2819\n",
      "Vallidation Loss: 248133.8844\n",
      "\n",
      "Epoch 34/50\n",
      "----------\n"
     ]
    },
    {
     "name": "stderr",
     "output_type": "stream",
     "text": [
      "100%|██████████| 45/45 [00:06<00:00,  6.67it/s]\n",
      "100%|██████████| 5/5 [00:00<00:00,  9.98it/s]\n",
      "  2%|▏         | 1/45 [00:00<00:07,  6.12it/s]"
     ]
    },
    {
     "name": "stdout",
     "output_type": "stream",
     "text": [
      "Training Loss: 278371.3701\n",
      "Vallidation Loss: 199571.6250\n",
      "\n",
      "Epoch 35/50\n",
      "----------\n"
     ]
    },
    {
     "name": "stderr",
     "output_type": "stream",
     "text": [
      "100%|██████████| 45/45 [00:06<00:00,  7.17it/s]\n",
      "100%|██████████| 5/5 [00:00<00:00,  9.99it/s]\n",
      "  2%|▏         | 1/45 [00:00<00:05,  7.38it/s]"
     ]
    },
    {
     "name": "stdout",
     "output_type": "stream",
     "text": [
      "Training Loss: 249037.0991\n",
      "Vallidation Loss: 201573.6344\n",
      "\n",
      "Epoch 36/50\n",
      "----------\n"
     ]
    },
    {
     "name": "stderr",
     "output_type": "stream",
     "text": [
      "100%|██████████| 45/45 [00:06<00:00,  6.89it/s]\n",
      "100%|██████████| 5/5 [00:00<00:00, 10.00it/s]\n",
      "  2%|▏         | 1/45 [00:00<00:05,  8.44it/s]"
     ]
    },
    {
     "name": "stdout",
     "output_type": "stream",
     "text": [
      "Training Loss: 313554.2656\n",
      "Vallidation Loss: 186411.1391\n",
      "\n",
      "Epoch 37/50\n",
      "----------\n"
     ]
    },
    {
     "name": "stderr",
     "output_type": "stream",
     "text": [
      "100%|██████████| 45/45 [00:06<00:00,  7.86it/s]\n",
      "100%|██████████| 5/5 [00:00<00:00,  9.96it/s]\n",
      "  2%|▏         | 1/45 [00:00<00:05,  8.22it/s]"
     ]
    },
    {
     "name": "stdout",
     "output_type": "stream",
     "text": [
      "Training Loss: 291288.2236\n",
      "Vallidation Loss: 203570.3875\n",
      "\n",
      "Epoch 38/50\n",
      "----------\n"
     ]
    },
    {
     "name": "stderr",
     "output_type": "stream",
     "text": [
      "100%|██████████| 45/45 [00:06<00:00,  6.66it/s]\n",
      "100%|██████████| 5/5 [00:00<00:00,  9.93it/s]\n",
      "  2%|▏         | 1/45 [00:00<00:08,  5.48it/s]"
     ]
    },
    {
     "name": "stdout",
     "output_type": "stream",
     "text": [
      "Training Loss: 261150.0785\n",
      "Vallidation Loss: 211650.2250\n",
      "\n",
      "Epoch 39/50\n",
      "----------\n"
     ]
    },
    {
     "name": "stderr",
     "output_type": "stream",
     "text": [
      "100%|██████████| 45/45 [00:06<00:00,  6.82it/s]\n",
      "100%|██████████| 5/5 [00:00<00:00,  9.98it/s]\n",
      "  2%|▏         | 1/45 [00:00<00:05,  7.39it/s]"
     ]
    },
    {
     "name": "stdout",
     "output_type": "stream",
     "text": [
      "Training Loss: 263273.7417\n",
      "Vallidation Loss: 201115.7344\n",
      "\n",
      "Epoch 40/50\n",
      "----------\n"
     ]
    },
    {
     "name": "stderr",
     "output_type": "stream",
     "text": [
      "100%|██████████| 45/45 [00:06<00:00,  7.56it/s]\n",
      "100%|██████████| 5/5 [00:00<00:00,  9.98it/s]\n",
      "  2%|▏         | 1/45 [00:00<00:05,  8.34it/s]"
     ]
    },
    {
     "name": "stdout",
     "output_type": "stream",
     "text": [
      "Training Loss: 199973.7899\n",
      "Vallidation Loss: 190726.9438\n",
      "\n",
      "Epoch 41/50\n",
      "----------\n"
     ]
    },
    {
     "name": "stderr",
     "output_type": "stream",
     "text": [
      "100%|██████████| 45/45 [00:06<00:00,  7.33it/s]\n",
      "100%|██████████| 5/5 [00:00<00:00,  9.93it/s]\n",
      "  2%|▏         | 1/45 [00:00<00:05,  7.71it/s]"
     ]
    },
    {
     "name": "stdout",
     "output_type": "stream",
     "text": [
      "Training Loss: 265481.9035\n",
      "Vallidation Loss: 194396.1531\n",
      "\n",
      "Epoch 42/50\n",
      "----------\n"
     ]
    },
    {
     "name": "stderr",
     "output_type": "stream",
     "text": [
      "100%|██████████| 45/45 [00:06<00:00,  7.59it/s]\n",
      "100%|██████████| 5/5 [00:00<00:00,  8.59it/s]\n",
      "  2%|▏         | 1/45 [00:00<00:05,  8.36it/s]"
     ]
    },
    {
     "name": "stdout",
     "output_type": "stream",
     "text": [
      "Training Loss: 343267.5691\n",
      "Vallidation Loss: 277168.0531\n",
      "\n",
      "Epoch 43/50\n",
      "----------\n"
     ]
    },
    {
     "name": "stderr",
     "output_type": "stream",
     "text": [
      "100%|██████████| 45/45 [00:05<00:00,  7.24it/s]\n",
      "100%|██████████| 5/5 [00:00<00:00,  9.91it/s]\n",
      "  2%|▏         | 1/45 [00:00<00:05,  8.80it/s]"
     ]
    },
    {
     "name": "stdout",
     "output_type": "stream",
     "text": [
      "Training Loss: 214935.9396\n",
      "Vallidation Loss: 186908.0969\n",
      "\n",
      "Epoch 44/50\n",
      "----------\n"
     ]
    },
    {
     "name": "stderr",
     "output_type": "stream",
     "text": [
      "100%|██████████| 45/45 [00:06<00:00,  7.13it/s]\n",
      "100%|██████████| 5/5 [00:00<00:00,  9.90it/s]\n",
      "  2%|▏         | 1/45 [00:00<00:06,  7.11it/s]"
     ]
    },
    {
     "name": "stdout",
     "output_type": "stream",
     "text": [
      "Training Loss: 272888.2181\n",
      "Vallidation Loss: 234357.4156\n",
      "\n",
      "Epoch 45/50\n",
      "----------\n"
     ]
    },
    {
     "name": "stderr",
     "output_type": "stream",
     "text": [
      "100%|██████████| 45/45 [00:06<00:00,  7.40it/s]\n",
      "100%|██████████| 5/5 [00:00<00:00,  9.97it/s]\n",
      "  2%|▏         | 1/45 [00:00<00:06,  7.05it/s]"
     ]
    },
    {
     "name": "stdout",
     "output_type": "stream",
     "text": [
      "Training Loss: 259867.2566\n",
      "Vallidation Loss: 288555.5062\n",
      "\n",
      "Epoch 46/50\n",
      "----------\n"
     ]
    },
    {
     "name": "stderr",
     "output_type": "stream",
     "text": [
      "100%|██████████| 45/45 [00:06<00:00,  6.61it/s]\n",
      "100%|██████████| 5/5 [00:00<00:00,  9.90it/s]\n",
      "  2%|▏         | 1/45 [00:00<00:06,  6.75it/s]"
     ]
    },
    {
     "name": "stdout",
     "output_type": "stream",
     "text": [
      "Training Loss: 301814.5670\n",
      "Vallidation Loss: 328677.6437\n",
      "\n",
      "Epoch 47/50\n",
      "----------\n"
     ]
    },
    {
     "name": "stderr",
     "output_type": "stream",
     "text": [
      "100%|██████████| 45/45 [00:06<00:00,  6.48it/s]\n",
      "100%|██████████| 5/5 [00:00<00:00,  9.95it/s]\n",
      "  2%|▏         | 1/45 [00:00<00:06,  6.96it/s]"
     ]
    },
    {
     "name": "stdout",
     "output_type": "stream",
     "text": [
      "Training Loss: 311895.7479\n",
      "Vallidation Loss: 265963.0906\n",
      "\n",
      "Epoch 48/50\n",
      "----------\n"
     ]
    },
    {
     "name": "stderr",
     "output_type": "stream",
     "text": [
      "100%|██████████| 45/45 [00:06<00:00,  7.38it/s]\n",
      "100%|██████████| 5/5 [00:00<00:00,  9.99it/s]\n",
      "  2%|▏         | 1/45 [00:00<00:05,  7.59it/s]"
     ]
    },
    {
     "name": "stdout",
     "output_type": "stream",
     "text": [
      "Training Loss: 259606.6073\n",
      "Vallidation Loss: 345555.7844\n",
      "\n",
      "Epoch 49/50\n",
      "----------\n"
     ]
    },
    {
     "name": "stderr",
     "output_type": "stream",
     "text": [
      "100%|██████████| 45/45 [00:06<00:00,  6.86it/s]\n",
      "100%|██████████| 5/5 [00:00<00:00,  8.46it/s]\n",
      "  2%|▏         | 1/45 [00:00<00:05,  7.95it/s]"
     ]
    },
    {
     "name": "stdout",
     "output_type": "stream",
     "text": [
      "Training Loss: 280142.5844\n",
      "Vallidation Loss: 225016.3312\n",
      "\n",
      "Epoch 50/50\n",
      "----------\n"
     ]
    },
    {
     "name": "stderr",
     "output_type": "stream",
     "text": [
      "100%|██████████| 45/45 [00:06<00:00,  7.86it/s]\n",
      "100%|██████████| 5/5 [00:00<00:00,  9.97it/s]"
     ]
    },
    {
     "name": "stdout",
     "output_type": "stream",
     "text": [
      "Training Loss: 240162.4253\n",
      "Vallidation Loss: 224786.9031\n",
      "\n",
      "Training completed in 5m 39s\n"
     ]
    },
    {
     "name": "stderr",
     "output_type": "stream",
     "text": [
      "\n"
     ]
    }
   ],
   "source": [
    "optimizer_beauty = optim.Adam(filter(lambda p: p.requires_grad, model_beauty_bb.parameters()), lr=1e-4, weight_decay=0.05)\n",
    "\n",
    "num_epochs = 50\n",
    "\n",
    "model_beauty_bb, train_loss_beauty_2, val_loss_beauty_2 = train_bb_model(model=model_beauty_bb,\n",
    "                                                                         df_train=bb_beauty_train,\n",
    "                                                                         df_val=bb_beauty_val,\n",
    "                                                                         root_dir='data/raw',\n",
    "                                                                         criterion=criterion,\n",
    "                                                                         optimizer=optimizer_beauty,\n",
    "                                                                         bootstrap_size=180,\n",
    "                                                                         num_epochs=num_epochs,\n",
    "                                                                         batch_size=4,\n",
    "                                                                         num_workers=0)"
   ]
  },
  {
   "cell_type": "code",
   "execution_count": 16,
   "metadata": {},
   "outputs": [
    {
     "data": {
      "text/plain": [
       "<matplotlib.legend.Legend at 0x7f373cb49278>"
      ]
     },
     "execution_count": 16,
     "metadata": {},
     "output_type": "execute_result"
    },
    {
     "data": {
      "image/png": "[encoded data removed]",
      "text/plain": [
       "<Figure size 432x288 with 1 Axes>"
      ]
     },
     "metadata": {
      "needs_background": "light"
     },
     "output_type": "display_data"
    }
   ],
   "source": [
    "plt.plot(range(1, num_epochs+1), train_loss_beauty_2, label='Training Loss')\n",
    "plt.plot(range(1, num_epochs+1), val_loss_beauty_2, label='Validation Loss')\n",
    "plt.legend(loc='best')"
   ]
  }
 ],
 "metadata": {
  "kernelspec": {
   "display_name": "Python 3",
   "language": "python",
   "name": "python3"
  },
  "language_info": {
   "codemirror_mode": {
    "name": "ipython",
    "version": 3
   },
   "file_extension": ".py",
   "mimetype": "text/x-python",
   "name": "python",
   "nbconvert_exporter": "python",
   "pygments_lexer": "ipython3",
   "version": "3.6.8"
  }
 },
 "nbformat": 4,
 "nbformat_minor": 2
}
